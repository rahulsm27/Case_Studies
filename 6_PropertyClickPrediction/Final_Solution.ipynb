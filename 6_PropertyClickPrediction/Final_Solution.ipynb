{
 "cells": [
  {
   "cell_type": "code",
   "execution_count": 1,
   "metadata": {},
   "outputs": [],
   "source": [
    "# Importing libraries\n",
    "\n",
    "import pandas as pd \n",
    "import numpy as np\n",
    "\n",
    "import matplotlib.pyplot as plt \n",
    "import seaborn as sns\n",
    "%matplotlib inline\n",
    "\n",
    "import os\n",
    "from datetime import datetime"
   ]
  },
  {
   "cell_type": "code",
   "execution_count": null,
   "metadata": {},
   "outputs": [],
   "source": [
    "# Load the data"
   ]
  },
  {
   "cell_type": "code",
   "execution_count": 2,
   "metadata": {},
   "outputs": [],
   "source": [
    "df_property = pd.read_csv(\"./datasets/property_data_set.csv\")\n",
    "df_photos = pd.read_csv(\"./datasets/property_photos.tsv\", sep='\\t')\n",
    "df_interactions = pd.read_csv(\"./datasets/property_interactions.csv\")"
   ]
  },
  {
   "cell_type": "code",
   "execution_count": 3,
   "metadata": {},
   "outputs": [
    {
     "data": {
      "text/html": [
       "<div>\n",
       "<style scoped>\n",
       "    .dataframe tbody tr th:only-of-type {\n",
       "        vertical-align: middle;\n",
       "    }\n",
       "\n",
       "    .dataframe tbody tr th {\n",
       "        vertical-align: top;\n",
       "    }\n",
       "\n",
       "    .dataframe thead th {\n",
       "        text-align: right;\n",
       "    }\n",
       "</style>\n",
       "<table border=\"1\" class=\"dataframe\">\n",
       "  <thead>\n",
       "    <tr style=\"text-align: right;\">\n",
       "      <th></th>\n",
       "      <th>property_id</th>\n",
       "      <th>type</th>\n",
       "      <th>activation_date</th>\n",
       "      <th>bathroom</th>\n",
       "      <th>floor</th>\n",
       "      <th>total_floor</th>\n",
       "      <th>furnishing</th>\n",
       "      <th>gym</th>\n",
       "      <th>latitude</th>\n",
       "      <th>longitude</th>\n",
       "      <th>...</th>\n",
       "      <th>lift</th>\n",
       "      <th>locality</th>\n",
       "      <th>parking</th>\n",
       "      <th>property_age</th>\n",
       "      <th>property_size</th>\n",
       "      <th>swimming_pool</th>\n",
       "      <th>pin_code</th>\n",
       "      <th>rent</th>\n",
       "      <th>deposit</th>\n",
       "      <th>building_type</th>\n",
       "    </tr>\n",
       "  </thead>\n",
       "  <tbody>\n",
       "    <tr>\n",
       "      <th>0</th>\n",
       "      <td>ff808081469fd6e20146a5af948000ea</td>\n",
       "      <td>BHK2</td>\n",
       "      <td>09-03-2017 14:36</td>\n",
       "      <td>1</td>\n",
       "      <td>3</td>\n",
       "      <td>4.0</td>\n",
       "      <td>SEMI_FURNISHED</td>\n",
       "      <td>1</td>\n",
       "      <td>12.876174</td>\n",
       "      <td>77.596571</td>\n",
       "      <td>...</td>\n",
       "      <td>1</td>\n",
       "      <td>Hulimavu</td>\n",
       "      <td>BOTH</td>\n",
       "      <td>2</td>\n",
       "      <td>850</td>\n",
       "      <td>1</td>\n",
       "      <td>560076.0</td>\n",
       "      <td>12000</td>\n",
       "      <td>120000</td>\n",
       "      <td>AP</td>\n",
       "    </tr>\n",
       "    <tr>\n",
       "      <th>1</th>\n",
       "      <td>ff8080814702d3d10147068359d200cd</td>\n",
       "      <td>BHK2</td>\n",
       "      <td>07-03-2017 12:02</td>\n",
       "      <td>2</td>\n",
       "      <td>4</td>\n",
       "      <td>11.0</td>\n",
       "      <td>SEMI_FURNISHED</td>\n",
       "      <td>1</td>\n",
       "      <td>13.018444</td>\n",
       "      <td>77.678122</td>\n",
       "      <td>...</td>\n",
       "      <td>1</td>\n",
       "      <td>Ramamurthy Nagar</td>\n",
       "      <td>BOTH</td>\n",
       "      <td>1</td>\n",
       "      <td>1233</td>\n",
       "      <td>1</td>\n",
       "      <td>560016.0</td>\n",
       "      <td>20000</td>\n",
       "      <td>150000</td>\n",
       "      <td>AP</td>\n",
       "    </tr>\n",
       "    <tr>\n",
       "      <th>2</th>\n",
       "      <td>ff808081470c645401470fb03f5800a6</td>\n",
       "      <td>BHK2</td>\n",
       "      <td>10-03-2017 13:43</td>\n",
       "      <td>2</td>\n",
       "      <td>0</td>\n",
       "      <td>4.0</td>\n",
       "      <td>NOT_FURNISHED</td>\n",
       "      <td>1</td>\n",
       "      <td>12.975072</td>\n",
       "      <td>77.665865</td>\n",
       "      <td>...</td>\n",
       "      <td>1</td>\n",
       "      <td>GM Palya</td>\n",
       "      <td>FOUR_WHEELER</td>\n",
       "      <td>0</td>\n",
       "      <td>1200</td>\n",
       "      <td>0</td>\n",
       "      <td>560075.0</td>\n",
       "      <td>15000</td>\n",
       "      <td>75000</td>\n",
       "      <td>AP</td>\n",
       "    </tr>\n",
       "    <tr>\n",
       "      <th>3</th>\n",
       "      <td>ff808081470c6454014715eaa5960281</td>\n",
       "      <td>BHK3</td>\n",
       "      <td>09-03-2017 22:16</td>\n",
       "      <td>2</td>\n",
       "      <td>3</td>\n",
       "      <td>4.0</td>\n",
       "      <td>SEMI_FURNISHED</td>\n",
       "      <td>0</td>\n",
       "      <td>12.888169</td>\n",
       "      <td>77.591282</td>\n",
       "      <td>...</td>\n",
       "      <td>0</td>\n",
       "      <td>Arakere</td>\n",
       "      <td>BOTH</td>\n",
       "      <td>1</td>\n",
       "      <td>1300</td>\n",
       "      <td>0</td>\n",
       "      <td>560076.0</td>\n",
       "      <td>17000</td>\n",
       "      <td>150000</td>\n",
       "      <td>AP</td>\n",
       "    </tr>\n",
       "    <tr>\n",
       "      <th>4</th>\n",
       "      <td>ff808081474aa867014771a0298f0aa6</td>\n",
       "      <td>BHK1</td>\n",
       "      <td>15-03-2017 18:29</td>\n",
       "      <td>1</td>\n",
       "      <td>1</td>\n",
       "      <td>2.0</td>\n",
       "      <td>SEMI_FURNISHED</td>\n",
       "      <td>0</td>\n",
       "      <td>12.990243</td>\n",
       "      <td>77.712962</td>\n",
       "      <td>...</td>\n",
       "      <td>0</td>\n",
       "      <td>Hoodi</td>\n",
       "      <td>BOTH</td>\n",
       "      <td>4</td>\n",
       "      <td>450</td>\n",
       "      <td>0</td>\n",
       "      <td>560048.0</td>\n",
       "      <td>6500</td>\n",
       "      <td>40000</td>\n",
       "      <td>IF</td>\n",
       "    </tr>\n",
       "  </tbody>\n",
       "</table>\n",
       "<p>5 rows × 21 columns</p>\n",
       "</div>"
      ],
      "text/plain": [
       "                        property_id  type   activation_date  bathroom  floor  \\\n",
       "0  ff808081469fd6e20146a5af948000ea  BHK2  09-03-2017 14:36         1      3   \n",
       "1  ff8080814702d3d10147068359d200cd  BHK2  07-03-2017 12:02         2      4   \n",
       "2  ff808081470c645401470fb03f5800a6  BHK2  10-03-2017 13:43         2      0   \n",
       "3  ff808081470c6454014715eaa5960281  BHK3  09-03-2017 22:16         2      3   \n",
       "4  ff808081474aa867014771a0298f0aa6  BHK1  15-03-2017 18:29         1      1   \n",
       "\n",
       "   total_floor      furnishing  gym   latitude  longitude  ... lift  \\\n",
       "0          4.0  SEMI_FURNISHED    1  12.876174  77.596571  ...    1   \n",
       "1         11.0  SEMI_FURNISHED    1  13.018444  77.678122  ...    1   \n",
       "2          4.0   NOT_FURNISHED    1  12.975072  77.665865  ...    1   \n",
       "3          4.0  SEMI_FURNISHED    0  12.888169  77.591282  ...    0   \n",
       "4          2.0  SEMI_FURNISHED    0  12.990243  77.712962  ...    0   \n",
       "\n",
       "           locality       parking property_age  property_size  swimming_pool  \\\n",
       "0          Hulimavu          BOTH            2            850              1   \n",
       "1  Ramamurthy Nagar          BOTH            1           1233              1   \n",
       "2          GM Palya  FOUR_WHEELER            0           1200              0   \n",
       "3           Arakere          BOTH            1           1300              0   \n",
       "4             Hoodi          BOTH            4            450              0   \n",
       "\n",
       "   pin_code   rent  deposit  building_type  \n",
       "0  560076.0  12000   120000             AP  \n",
       "1  560016.0  20000   150000             AP  \n",
       "2  560075.0  15000    75000             AP  \n",
       "3  560076.0  17000   150000             AP  \n",
       "4  560048.0   6500    40000             IF  \n",
       "\n",
       "[5 rows x 21 columns]"
      ]
     },
     "execution_count": 3,
     "metadata": {},
     "output_type": "execute_result"
    }
   ],
   "source": [
    "df_property.head()"
   ]
  },
  {
   "cell_type": "code",
   "execution_count": null,
   "metadata": {},
   "outputs": [],
   "source": []
  },
  {
   "cell_type": "code",
   "execution_count": 58,
   "metadata": {},
   "outputs": [
    {
     "data": {
      "text/plain": [
       "28888"
      ]
     },
     "execution_count": 58,
     "metadata": {},
     "output_type": "execute_result"
    }
   ],
   "source": [
    "len(df_property)"
   ]
  },
  {
   "cell_type": "code",
   "execution_count": 59,
   "metadata": {},
   "outputs": [
    {
     "data": {
      "text/plain": [
       "28888"
      ]
     },
     "execution_count": 59,
     "metadata": {},
     "output_type": "execute_result"
    }
   ],
   "source": [
    "df_property['property_id'].nunique()"
   ]
  },
  {
   "cell_type": "code",
   "execution_count": 60,
   "metadata": {},
   "outputs": [
    {
     "name": "stdout",
     "output_type": "stream",
     "text": [
      "<class 'pandas.core.frame.DataFrame'>\n",
      "RangeIndex: 28888 entries, 0 to 28887\n",
      "Data columns (total 21 columns):\n",
      " #   Column           Non-Null Count  Dtype         \n",
      "---  ------           --------------  -----         \n",
      " 0   property_id      28888 non-null  object        \n",
      " 1   type             28888 non-null  object        \n",
      " 2   activation_date  28888 non-null  datetime64[ns]\n",
      " 3   bathroom         28888 non-null  int64         \n",
      " 4   floor            28888 non-null  int64         \n",
      " 5   total_floor      28845 non-null  float64       \n",
      " 6   furnishing       28888 non-null  object        \n",
      " 7   gym              28888 non-null  int64         \n",
      " 8   latitude         28888 non-null  float64       \n",
      " 9   longitude        28888 non-null  float64       \n",
      " 10  lease_type       28888 non-null  object        \n",
      " 11  lift             28888 non-null  int64         \n",
      " 12  locality         28888 non-null  object        \n",
      " 13  parking          28888 non-null  object        \n",
      " 14  property_age     28888 non-null  int64         \n",
      " 15  property_size    28888 non-null  int64         \n",
      " 16  swimming_pool    28888 non-null  int64         \n",
      " 17  pin_code         28563 non-null  float64       \n",
      " 18  rent             28888 non-null  int64         \n",
      " 19  deposit          28888 non-null  int64         \n",
      " 20  building_type    28809 non-null  object        \n",
      "dtypes: datetime64[ns](1), float64(4), int64(9), object(7)\n",
      "memory usage: 4.6+ MB\n"
     ]
    }
   ],
   "source": [
    "df_property.info()"
   ]
  },
  {
   "cell_type": "code",
   "execution_count": 64,
   "metadata": {},
   "outputs": [
    {
     "name": "stdout",
     "output_type": "stream",
     "text": [
      "['type', 'furnishing', 'lease_type', 'locality', 'parking', 'building_type']\n"
     ]
    }
   ],
   "source": [
    "cat_cols = [x for x in df_property.columns if df_property[x].dtype == 'object']\n",
    "cat_cols.remove('property_id')\n",
    "print(cat_cols)"
   ]
  },
  {
   "cell_type": "code",
   "execution_count": 70,
   "metadata": {},
   "outputs": [
    {
     "name": "stdout",
     "output_type": "stream",
     "text": [
      "**************************************************\n",
      "type\n",
      "**************************************************\n",
      "type\n",
      "BHK2        14071\n",
      "BHK1         6565\n",
      "BHK3         5725\n",
      "RK1          2015\n",
      "BHK4          440\n",
      "BHK4PLUS       72\n",
      "Name: count, dtype: int64\n",
      "\n",
      "\n",
      "\n",
      "**************************************************\n",
      "furnishing\n",
      "**************************************************\n",
      "furnishing\n",
      "SEMI_FURNISHED     22463\n",
      "NOT_FURNISHED       4863\n",
      "FULLY_FURNISHED     1562\n",
      "Name: count, dtype: int64\n",
      "\n",
      "\n",
      "\n",
      "**************************************************\n",
      "lease_type\n",
      "**************************************************\n",
      "lease_type\n",
      "FAMILY      14885\n",
      "ANYONE      12721\n",
      "BACHELOR     1211\n",
      "COMPANY        71\n",
      "Name: count, dtype: int64\n",
      "\n",
      "\n",
      "\n",
      "**************************************************\n",
      "locality\n",
      "**************************************************\n",
      "locality\n",
      "Whitefield                                  745\n",
      "JP Nagar                                    655\n",
      "Electronic City                             630\n",
      "Ramamurthy Nagar                            522\n",
      "Marathahalli                                494\n",
      "                                           ... \n",
      "Sultanpalya, Bengaluru, Karnataka, India      1\n",
      "Anjanapura BDA Layout                         1\n",
      "JP Nagar 1st Phase,                           1\n",
      "Bharath Nagar                                 1\n",
      "Hosakote                                      1\n",
      "Name: count, Length: 2368, dtype: int64\n",
      "\n",
      "\n",
      "\n",
      "**************************************************\n",
      "parking\n",
      "**************************************************\n",
      "parking\n",
      "BOTH            13809\n",
      "TWO_WHEELER     12806\n",
      "NONE             1277\n",
      "FOUR_WHEELER      996\n",
      "Name: count, dtype: int64\n",
      "\n",
      "\n",
      "\n",
      "**************************************************\n",
      "building_type\n",
      "**************************************************\n",
      "building_type\n",
      "IF    16557\n",
      "AP    10193\n",
      "IH     2059\n",
      "Name: count, dtype: int64\n",
      "\n",
      "\n",
      "\n"
     ]
    }
   ],
   "source": [
    "for i in cat_cols:\n",
    "    print(\"*\"*50)\n",
    "    print(i)\n",
    "    print(\"*\"*50)\n",
    "    print(df_property[i].value_counts())\n",
    "    print('\\n\\n')"
   ]
  },
  {
   "cell_type": "code",
   "execution_count": null,
   "metadata": {},
   "outputs": [],
   "source": []
  },
  {
   "cell_type": "code",
   "execution_count": 4,
   "metadata": {},
   "outputs": [
    {
     "data": {
      "text/html": [
       "<div>\n",
       "<style scoped>\n",
       "    .dataframe tbody tr th:only-of-type {\n",
       "        vertical-align: middle;\n",
       "    }\n",
       "\n",
       "    .dataframe tbody tr th {\n",
       "        vertical-align: top;\n",
       "    }\n",
       "\n",
       "    .dataframe thead th {\n",
       "        text-align: right;\n",
       "    }\n",
       "</style>\n",
       "<table border=\"1\" class=\"dataframe\">\n",
       "  <thead>\n",
       "    <tr style=\"text-align: right;\">\n",
       "      <th></th>\n",
       "      <th>property_id</th>\n",
       "      <th>photo_urls</th>\n",
       "    </tr>\n",
       "  </thead>\n",
       "  <tbody>\n",
       "    <tr>\n",
       "      <th>0</th>\n",
       "      <td>ff808081469fd6e20146a5af948000ea</td>\n",
       "      <td>[{\\title\\\":\\\"Balcony\\\",\\\"name\\\":\\\"IMG_20131006...</td>\n",
       "    </tr>\n",
       "    <tr>\n",
       "      <th>1</th>\n",
       "      <td>ff8080814702d3d10147068359d200cd</td>\n",
       "      <td>NaN</td>\n",
       "    </tr>\n",
       "    <tr>\n",
       "      <th>2</th>\n",
       "      <td>ff808081470c645401470fb03f5800a6</td>\n",
       "      <td>[{\\title\\\":\\\"Bedroom\\\",\\\"name\\\":\\\"ff808081470c...</td>\n",
       "    </tr>\n",
       "    <tr>\n",
       "      <th>3</th>\n",
       "      <td>ff808081470c6454014715eaa5960281</td>\n",
       "      <td>[{\\title\\\":\\\"Bedroom\\\",\\\"name\\\":\\\"Screenshot_7...</td>\n",
       "    </tr>\n",
       "    <tr>\n",
       "      <th>4</th>\n",
       "      <td>ff808081474aa867014771a0298f0aa6</td>\n",
       "      <td>[{\\title\\\":\\\"Other\\\",\\\"name\\\":\\\"ff808081474aa8...</td>\n",
       "    </tr>\n",
       "  </tbody>\n",
       "</table>\n",
       "</div>"
      ],
      "text/plain": [
       "                        property_id  \\\n",
       "0  ff808081469fd6e20146a5af948000ea   \n",
       "1  ff8080814702d3d10147068359d200cd   \n",
       "2  ff808081470c645401470fb03f5800a6   \n",
       "3  ff808081470c6454014715eaa5960281   \n",
       "4  ff808081474aa867014771a0298f0aa6   \n",
       "\n",
       "                                          photo_urls  \n",
       "0  [{\\title\\\":\\\"Balcony\\\",\\\"name\\\":\\\"IMG_20131006...  \n",
       "1                                                NaN  \n",
       "2  [{\\title\\\":\\\"Bedroom\\\",\\\"name\\\":\\\"ff808081470c...  \n",
       "3  [{\\title\\\":\\\"Bedroom\\\",\\\"name\\\":\\\"Screenshot_7...  \n",
       "4  [{\\title\\\":\\\"Other\\\",\\\"name\\\":\\\"ff808081474aa8...  "
      ]
     },
     "execution_count": 4,
     "metadata": {},
     "output_type": "execute_result"
    }
   ],
   "source": [
    "df_photos.head()"
   ]
  },
  {
   "cell_type": "code",
   "execution_count": 5,
   "metadata": {},
   "outputs": [
    {
     "data": {
      "text/html": [
       "<div>\n",
       "<style scoped>\n",
       "    .dataframe tbody tr th:only-of-type {\n",
       "        vertical-align: middle;\n",
       "    }\n",
       "\n",
       "    .dataframe tbody tr th {\n",
       "        vertical-align: top;\n",
       "    }\n",
       "\n",
       "    .dataframe thead th {\n",
       "        text-align: right;\n",
       "    }\n",
       "</style>\n",
       "<table border=\"1\" class=\"dataframe\">\n",
       "  <thead>\n",
       "    <tr style=\"text-align: right;\">\n",
       "      <th></th>\n",
       "      <th>property_id</th>\n",
       "      <th>request_date</th>\n",
       "    </tr>\n",
       "  </thead>\n",
       "  <tbody>\n",
       "    <tr>\n",
       "      <th>0</th>\n",
       "      <td>ff808081469fd6e20146a5af948000ea</td>\n",
       "      <td>2017-03-10 17:42:34</td>\n",
       "    </tr>\n",
       "    <tr>\n",
       "      <th>1</th>\n",
       "      <td>ff808081469fd6e20146a5af948000ea</td>\n",
       "      <td>2017-03-09 15:51:17</td>\n",
       "    </tr>\n",
       "    <tr>\n",
       "      <th>2</th>\n",
       "      <td>ff808081469fd6e20146a5af948000ea</td>\n",
       "      <td>2017-03-10 17:30:22</td>\n",
       "    </tr>\n",
       "    <tr>\n",
       "      <th>3</th>\n",
       "      <td>ff808081469fd6e20146a5af948000ea</td>\n",
       "      <td>2017-03-11 17:48:46</td>\n",
       "    </tr>\n",
       "    <tr>\n",
       "      <th>4</th>\n",
       "      <td>ff8080814702d3d10147068359d200cd</td>\n",
       "      <td>2017-03-30 19:59:15</td>\n",
       "    </tr>\n",
       "  </tbody>\n",
       "</table>\n",
       "</div>"
      ],
      "text/plain": [
       "                        property_id         request_date\n",
       "0  ff808081469fd6e20146a5af948000ea  2017-03-10 17:42:34\n",
       "1  ff808081469fd6e20146a5af948000ea  2017-03-09 15:51:17\n",
       "2  ff808081469fd6e20146a5af948000ea  2017-03-10 17:30:22\n",
       "3  ff808081469fd6e20146a5af948000ea  2017-03-11 17:48:46\n",
       "4  ff8080814702d3d10147068359d200cd  2017-03-30 19:59:15"
      ]
     },
     "execution_count": 5,
     "metadata": {},
     "output_type": "execute_result"
    }
   ],
   "source": [
    "df_interactions.head()"
   ]
  },
  {
   "cell_type": "code",
   "execution_count": null,
   "metadata": {},
   "outputs": [],
   "source": []
  },
  {
   "cell_type": "code",
   "execution_count": null,
   "metadata": {},
   "outputs": [],
   "source": [
    "# Counting number of photos for each property id"
   ]
  },
  {
   "cell_type": "code",
   "execution_count": 6,
   "metadata": {},
   "outputs": [],
   "source": [
    "import re\n",
    "def count_photos(row):\n",
    "    if type(row) == str:\n",
    "        return row.count('_original.jpg')\n",
    "    else:\n",
    "        return 0\n",
    "\n",
    "df_photos[\"count\"] = df_photos[\"photo_urls\"].apply(count_photos ) "
   ]
  },
  {
   "cell_type": "code",
   "execution_count": 7,
   "metadata": {},
   "outputs": [
    {
     "data": {
      "text/html": [
       "<div>\n",
       "<style scoped>\n",
       "    .dataframe tbody tr th:only-of-type {\n",
       "        vertical-align: middle;\n",
       "    }\n",
       "\n",
       "    .dataframe tbody tr th {\n",
       "        vertical-align: top;\n",
       "    }\n",
       "\n",
       "    .dataframe thead th {\n",
       "        text-align: right;\n",
       "    }\n",
       "</style>\n",
       "<table border=\"1\" class=\"dataframe\">\n",
       "  <thead>\n",
       "    <tr style=\"text-align: right;\">\n",
       "      <th></th>\n",
       "      <th>property_id</th>\n",
       "      <th>photo_urls</th>\n",
       "      <th>count</th>\n",
       "    </tr>\n",
       "  </thead>\n",
       "  <tbody>\n",
       "    <tr>\n",
       "      <th>0</th>\n",
       "      <td>ff808081469fd6e20146a5af948000ea</td>\n",
       "      <td>[{\\title\\\":\\\"Balcony\\\",\\\"name\\\":\\\"IMG_20131006...</td>\n",
       "      <td>7</td>\n",
       "    </tr>\n",
       "    <tr>\n",
       "      <th>1</th>\n",
       "      <td>ff8080814702d3d10147068359d200cd</td>\n",
       "      <td>NaN</td>\n",
       "      <td>0</td>\n",
       "    </tr>\n",
       "    <tr>\n",
       "      <th>2</th>\n",
       "      <td>ff808081470c645401470fb03f5800a6</td>\n",
       "      <td>[{\\title\\\":\\\"Bedroom\\\",\\\"name\\\":\\\"ff808081470c...</td>\n",
       "      <td>12</td>\n",
       "    </tr>\n",
       "    <tr>\n",
       "      <th>3</th>\n",
       "      <td>ff808081470c6454014715eaa5960281</td>\n",
       "      <td>[{\\title\\\":\\\"Bedroom\\\",\\\"name\\\":\\\"Screenshot_7...</td>\n",
       "      <td>9</td>\n",
       "    </tr>\n",
       "    <tr>\n",
       "      <th>4</th>\n",
       "      <td>ff808081474aa867014771a0298f0aa6</td>\n",
       "      <td>[{\\title\\\":\\\"Other\\\",\\\"name\\\":\\\"ff808081474aa8...</td>\n",
       "      <td>7</td>\n",
       "    </tr>\n",
       "    <tr>\n",
       "      <th>...</th>\n",
       "      <td>...</td>\n",
       "      <td>...</td>\n",
       "      <td>...</td>\n",
       "    </tr>\n",
       "    <tr>\n",
       "      <th>28883</th>\n",
       "      <td>ff8081815b1fdda8015b1fe675ae0146</td>\n",
       "      <td>NaN</td>\n",
       "      <td>0</td>\n",
       "    </tr>\n",
       "    <tr>\n",
       "      <th>28884</th>\n",
       "      <td>ff8081815b1fdda8015b1ffee8a305d2</td>\n",
       "      <td>[{\\title\\\":\\\"\\\",\\\"name\\\":\\\"files[]\\\",\\\"imagesM...</td>\n",
       "      <td>7</td>\n",
       "    </tr>\n",
       "    <tr>\n",
       "      <th>28885</th>\n",
       "      <td>ff8081815b1fdda8015b2000369205fd</td>\n",
       "      <td>[{\\title\\\":\\\"\\\",\\\"name\\\":\\\"files[]\\\",\\\"imagesM...</td>\n",
       "      <td>6</td>\n",
       "    </tr>\n",
       "    <tr>\n",
       "      <th>28886</th>\n",
       "      <td>ff8081815b200540015b20158b0103c9</td>\n",
       "      <td>NaN</td>\n",
       "      <td>0</td>\n",
       "    </tr>\n",
       "    <tr>\n",
       "      <th>28887</th>\n",
       "      <td>ff8081815b2007fc015b201c77a20395</td>\n",
       "      <td>[{\\title\\\":\\\"\\\",\\\"name\\\":\\\"files[]\\\",\\\"imagesM...</td>\n",
       "      <td>11</td>\n",
       "    </tr>\n",
       "  </tbody>\n",
       "</table>\n",
       "<p>28888 rows × 3 columns</p>\n",
       "</div>"
      ],
      "text/plain": [
       "                            property_id  \\\n",
       "0      ff808081469fd6e20146a5af948000ea   \n",
       "1      ff8080814702d3d10147068359d200cd   \n",
       "2      ff808081470c645401470fb03f5800a6   \n",
       "3      ff808081470c6454014715eaa5960281   \n",
       "4      ff808081474aa867014771a0298f0aa6   \n",
       "...                                 ...   \n",
       "28883  ff8081815b1fdda8015b1fe675ae0146   \n",
       "28884  ff8081815b1fdda8015b1ffee8a305d2   \n",
       "28885  ff8081815b1fdda8015b2000369205fd   \n",
       "28886  ff8081815b200540015b20158b0103c9   \n",
       "28887  ff8081815b2007fc015b201c77a20395   \n",
       "\n",
       "                                              photo_urls  count  \n",
       "0      [{\\title\\\":\\\"Balcony\\\",\\\"name\\\":\\\"IMG_20131006...      7  \n",
       "1                                                    NaN      0  \n",
       "2      [{\\title\\\":\\\"Bedroom\\\",\\\"name\\\":\\\"ff808081470c...     12  \n",
       "3      [{\\title\\\":\\\"Bedroom\\\",\\\"name\\\":\\\"Screenshot_7...      9  \n",
       "4      [{\\title\\\":\\\"Other\\\",\\\"name\\\":\\\"ff808081474aa8...      7  \n",
       "...                                                  ...    ...  \n",
       "28883                                                NaN      0  \n",
       "28884  [{\\title\\\":\\\"\\\",\\\"name\\\":\\\"files[]\\\",\\\"imagesM...      7  \n",
       "28885  [{\\title\\\":\\\"\\\",\\\"name\\\":\\\"files[]\\\",\\\"imagesM...      6  \n",
       "28886                                                NaN      0  \n",
       "28887  [{\\title\\\":\\\"\\\",\\\"name\\\":\\\"files[]\\\",\\\"imagesM...     11  \n",
       "\n",
       "[28888 rows x 3 columns]"
      ]
     },
     "execution_count": 7,
     "metadata": {},
     "output_type": "execute_result"
    }
   ],
   "source": [
    "df_photos"
   ]
  },
  {
   "cell_type": "code",
   "execution_count": 8,
   "metadata": {},
   "outputs": [
    {
     "data": {
      "text/plain": [
       "99993"
      ]
     },
     "execution_count": 8,
     "metadata": {},
     "output_type": "execute_result"
    }
   ],
   "source": [
    "df_photos[\"count\"].sum()"
   ]
  },
  {
   "cell_type": "code",
   "execution_count": 10,
   "metadata": {},
   "outputs": [],
   "source": [
    "#df_photos.iloc[[18167,13362,23864,9575,10496]]\n",
    "#print(df_photos.iloc[10496]['photo_urls'])"
   ]
  },
  {
   "cell_type": "code",
   "execution_count": null,
   "metadata": {},
   "outputs": [],
   "source": [
    "df_interactions.head()"
   ]
  },
  {
   "cell_type": "code",
   "execution_count": null,
   "metadata": {},
   "outputs": [],
   "source": []
  },
  {
   "cell_type": "code",
   "execution_count": 14,
   "metadata": {},
   "outputs": [],
   "source": [
    "# Transforming request data and activation date as date column\n",
    "df_interactions['request_date'] = pd.to_datetime(df_interactions['request_date'])\n",
    "\n",
    "df_property['activation_date'] = pd.to_datetime(df_property['activation_date'],format=\"%d-%m-%Y %H:%M\")\n",
    "\n"
   ]
  },
  {
   "cell_type": "code",
   "execution_count": 23,
   "metadata": {},
   "outputs": [],
   "source": [
    "df_interactions_comb = pd.merge(left=df_interactions, right=df_property, left_on='property_id', right_on='property_id',how='left')"
   ]
  },
  {
   "cell_type": "code",
   "execution_count": 26,
   "metadata": {},
   "outputs": [],
   "source": [
    "df_interactions_comb= df_interactions_comb[['property_id','activation_date','request_date']]"
   ]
  },
  {
   "cell_type": "code",
   "execution_count": 36,
   "metadata": {},
   "outputs": [
    {
     "name": "stderr",
     "output_type": "stream",
     "text": [
      "/var/folders/qj/rbyl_gdj7xn3ycgcxjpvn5080000gn/T/ipykernel_1275/2118719355.py:1: SettingWithCopyWarning: \n",
      "A value is trying to be set on a copy of a slice from a DataFrame.\n",
      "Try using .loc[row_indexer,col_indexer] = value instead\n",
      "\n",
      "See the caveats in the documentation: https://pandas.pydata.org/pandas-docs/stable/user_guide/indexing.html#returning-a-view-versus-a-copy\n",
      "  df_interactions_comb['diff'] = df_interactions_comb['request_date']-df_interactions_comb['activation_date']\n"
     ]
    }
   ],
   "source": [
    "df_interactions_comb['diff'] = df_interactions_comb['request_date']-df_interactions_comb['activation_date']"
   ]
  },
  {
   "cell_type": "code",
   "execution_count": 38,
   "metadata": {},
   "outputs": [
    {
     "name": "stderr",
     "output_type": "stream",
     "text": [
      "/var/folders/qj/rbyl_gdj7xn3ycgcxjpvn5080000gn/T/ipykernel_1275/3550093475.py:1: SettingWithCopyWarning: \n",
      "A value is trying to be set on a copy of a slice from a DataFrame.\n",
      "Try using .loc[row_indexer,col_indexer] = value instead\n",
      "\n",
      "See the caveats in the documentation: https://pandas.pydata.org/pandas-docs/stable/user_guide/indexing.html#returning-a-view-versus-a-copy\n",
      "  df_interactions_comb['diff_days']=df_interactions_comb['diff'].dt.days\n"
     ]
    }
   ],
   "source": [
    "df_interactions_comb['diff_days']=df_interactions_comb['diff'].dt.days"
   ]
  },
  {
   "cell_type": "code",
   "execution_count": 39,
   "metadata": {},
   "outputs": [
    {
     "data": {
      "text/plain": [
       "<Axes: >"
      ]
     },
     "execution_count": 39,
     "metadata": {},
     "output_type": "execute_result"
    },
    {
     "data": {
      "image/png": "[encoded data removed]",
      "text/plain": [
       "<Figure size 640x480 with 1 Axes>"
      ]
     },
     "metadata": {},
     "output_type": "display_data"
    }
   ],
   "source": [
    "df_interactions_comb['diff_days'].hist()"
   ]
  },
  {
   "cell_type": "code",
   "execution_count": 46,
   "metadata": {},
   "outputs": [
    {
     "name": "stderr",
     "output_type": "stream",
     "text": [
      "/var/folders/qj/rbyl_gdj7xn3ycgcxjpvn5080000gn/T/ipykernel_1275/2200423148.py:1: SettingWithCopyWarning: \n",
      "A value is trying to be set on a copy of a slice from a DataFrame.\n",
      "Try using .loc[row_indexer,col_indexer] = value instead\n",
      "\n",
      "See the caveats in the documentation: https://pandas.pydata.org/pandas-docs/stable/user_guide/indexing.html#returning-a-view-versus-a-copy\n",
      "  df_interactions_comb['3_days']= df_interactions_comb['diff_days'].apply(lambda x: 1 if x<4 else 0)\n",
      "/var/folders/qj/rbyl_gdj7xn3ycgcxjpvn5080000gn/T/ipykernel_1275/2200423148.py:2: SettingWithCopyWarning: \n",
      "A value is trying to be set on a copy of a slice from a DataFrame.\n",
      "Try using .loc[row_indexer,col_indexer] = value instead\n",
      "\n",
      "See the caveats in the documentation: https://pandas.pydata.org/pandas-docs/stable/user_guide/indexing.html#returning-a-view-versus-a-copy\n",
      "  df_interactions_comb['7_days']= df_interactions_comb['diff_days'].apply(lambda x: 1 if x<8 else 0)\n",
      "/var/folders/qj/rbyl_gdj7xn3ycgcxjpvn5080000gn/T/ipykernel_1275/2200423148.py:3: SettingWithCopyWarning: \n",
      "A value is trying to be set on a copy of a slice from a DataFrame.\n",
      "Try using .loc[row_indexer,col_indexer] = value instead\n",
      "\n",
      "See the caveats in the documentation: https://pandas.pydata.org/pandas-docs/stable/user_guide/indexing.html#returning-a-view-versus-a-copy\n",
      "  df_interactions_comb['12_days']= df_interactions_comb['diff_days'].apply(lambda x: 1 if x<13 else 0)\n"
     ]
    }
   ],
   "source": [
    "df_interactions_comb['3_days']= df_interactions_comb['diff_days'].apply(lambda x: 1 if x<4 else 0)\n",
    "df_interactions_comb['7_days']= df_interactions_comb['diff_days'].apply(lambda x: 1 if x<8 else 0)\n",
    "df_interactions_comb['12_days']= df_interactions_comb['diff_days'].apply(lambda x: 1 if x<13 else 0)"
   ]
  },
  {
   "cell_type": "code",
   "execution_count": 45,
   "metadata": {},
   "outputs": [
    {
     "data": {
      "text/plain": [
       "12.318326485396604"
      ]
     },
     "execution_count": 45,
     "metadata": {},
     "output_type": "execute_result"
    }
   ],
   "source": []
  },
  {
   "cell_type": "code",
   "execution_count": 54,
   "metadata": {},
   "outputs": [],
   "source": [
    "df_combined = df_interactions_comb.groupby(['property_id']).agg({'3_days':'sum','7_days':'sum','12_days':'sum', 'diff_days':'mean'})"
   ]
  },
  {
   "cell_type": "code",
   "execution_count": 56,
   "metadata": {},
   "outputs": [
    {
     "data": {
      "text/html": [
       "<div>\n",
       "<style scoped>\n",
       "    .dataframe tbody tr th:only-of-type {\n",
       "        vertical-align: middle;\n",
       "    }\n",
       "\n",
       "    .dataframe tbody tr th {\n",
       "        vertical-align: top;\n",
       "    }\n",
       "\n",
       "    .dataframe thead th {\n",
       "        text-align: right;\n",
       "    }\n",
       "</style>\n",
       "<table border=\"1\" class=\"dataframe\">\n",
       "  <thead>\n",
       "    <tr style=\"text-align: right;\">\n",
       "      <th></th>\n",
       "      <th>3_days</th>\n",
       "      <th>7_days</th>\n",
       "      <th>12_days</th>\n",
       "      <th>diff_days</th>\n",
       "    </tr>\n",
       "    <tr>\n",
       "      <th>property_id</th>\n",
       "      <th></th>\n",
       "      <th></th>\n",
       "      <th></th>\n",
       "      <th></th>\n",
       "    </tr>\n",
       "  </thead>\n",
       "  <tbody>\n",
       "    <tr>\n",
       "      <th>ff808081469fd6e20146a5af948000ea</th>\n",
       "      <td>4</td>\n",
       "      <td>4</td>\n",
       "      <td>4</td>\n",
       "      <td>1.000000</td>\n",
       "    </tr>\n",
       "    <tr>\n",
       "      <th>ff8080814702d3d10147068359d200cd</th>\n",
       "      <td>4</td>\n",
       "      <td>6</td>\n",
       "      <td>8</td>\n",
       "      <td>11.250000</td>\n",
       "    </tr>\n",
       "    <tr>\n",
       "      <th>ff808081470c645401470fb03f5800a6</th>\n",
       "      <td>18</td>\n",
       "      <td>23</td>\n",
       "      <td>27</td>\n",
       "      <td>2.888889</td>\n",
       "    </tr>\n",
       "    <tr>\n",
       "      <th>ff808081470c6454014715eaa5960281</th>\n",
       "      <td>5</td>\n",
       "      <td>7</td>\n",
       "      <td>10</td>\n",
       "      <td>10.461538</td>\n",
       "    </tr>\n",
       "    <tr>\n",
       "      <th>ff808081474aa867014771a0298f0aa6</th>\n",
       "      <td>34</td>\n",
       "      <td>56</td>\n",
       "      <td>68</td>\n",
       "      <td>3.955882</td>\n",
       "    </tr>\n",
       "  </tbody>\n",
       "</table>\n",
       "</div>"
      ],
      "text/plain": [
       "                                  3_days  7_days  12_days  diff_days\n",
       "property_id                                                         \n",
       "ff808081469fd6e20146a5af948000ea       4       4        4   1.000000\n",
       "ff8080814702d3d10147068359d200cd       4       6        8  11.250000\n",
       "ff808081470c645401470fb03f5800a6      18      23       27   2.888889\n",
       "ff808081470c6454014715eaa5960281       5       7       10  10.461538\n",
       "ff808081474aa867014771a0298f0aa6      34      56       68   3.955882"
      ]
     },
     "execution_count": 56,
     "metadata": {},
     "output_type": "execute_result"
    }
   ],
   "source": [
    "df_combined.head()"
   ]
  },
  {
   "cell_type": "code",
   "execution_count": null,
   "metadata": {},
   "outputs": [],
   "source": []
  }
 ],
 "metadata": {
  "kernelspec": {
   "display_name": "Python 3",
   "language": "python",
   "name": "python3"
  },
  "language_info": {
   "codemirror_mode": {
    "name": "ipython",
    "version": 3
   },
   "file_extension": ".py",
   "mimetype": "text/x-python",
   "name": "python",
   "nbconvert_exporter": "python",
   "pygments_lexer": "ipython3",
   "version": "3.11.3"
  }
 },
 "nbformat": 4,
 "nbformat_minor": 2
}
