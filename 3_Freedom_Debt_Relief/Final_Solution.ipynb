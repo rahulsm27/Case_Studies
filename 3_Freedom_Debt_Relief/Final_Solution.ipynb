{
 "cells": [
  {
   "cell_type": "code",
   "execution_count": null,
   "metadata": {},
   "outputs": [],
   "source": [
    "# Importing Libraries"
   ]
  },
  {
   "cell_type": "code",
   "execution_count": 4,
   "metadata": {},
   "outputs": [],
   "source": [
    "import pandas as pd\n",
    "import numpy as np\n",
    "\n",
    "import matplotlib.pyplot as plt \n",
    "import seaborn as sns\n",
    "%matplotlib inline"
   ]
  },
  {
   "cell_type": "code",
   "execution_count": null,
   "metadata": {},
   "outputs": [],
   "source": [
    "# Reading the data"
   ]
  },
  {
   "cell_type": "code",
   "execution_count": 7,
   "metadata": {},
   "outputs": [],
   "source": [
    "client_data = pd.read_csv(\"./datasets/client_data.csv\")\n",
    "deposit_data = pd.read_csv(\"./datasets/deposit_data.csv\")\n",
    "calendar_data = pd.read_csv(\"./datasets/calendar_data.csv\")"
   ]
  },
  {
   "cell_type": "code",
   "execution_count": null,
   "metadata": {},
   "outputs": [],
   "source": [
    "# Checking data frame"
   ]
  },
  {
   "cell_type": "code",
   "execution_count": 8,
   "metadata": {},
   "outputs": [
    {
     "data": {
      "text/html": [
       "<div>\n",
       "<style scoped>\n",
       "    .dataframe tbody tr th:only-of-type {\n",
       "        vertical-align: middle;\n",
       "    }\n",
       "\n",
       "    .dataframe tbody tr th {\n",
       "        vertical-align: top;\n",
       "    }\n",
       "\n",
       "    .dataframe thead th {\n",
       "        text-align: right;\n",
       "    }\n",
       "</style>\n",
       "<table border=\"1\" class=\"dataframe\">\n",
       "  <thead>\n",
       "    <tr style=\"text-align: right;\">\n",
       "      <th></th>\n",
       "      <th>client_id</th>\n",
       "      <th>client_geographical_region</th>\n",
       "      <th>client_residence_status</th>\n",
       "      <th>client_age</th>\n",
       "    </tr>\n",
       "  </thead>\n",
       "  <tbody>\n",
       "    <tr>\n",
       "      <th>0</th>\n",
       "      <td>538839486596724</td>\n",
       "      <td>Northeast</td>\n",
       "      <td>Rent</td>\n",
       "      <td>91</td>\n",
       "    </tr>\n",
       "    <tr>\n",
       "      <th>1</th>\n",
       "      <td>321708286091707</td>\n",
       "      <td>West</td>\n",
       "      <td>Own</td>\n",
       "      <td>83</td>\n",
       "    </tr>\n",
       "    <tr>\n",
       "      <th>2</th>\n",
       "      <td>848531901757235</td>\n",
       "      <td>Midwest</td>\n",
       "      <td>Own</td>\n",
       "      <td>84</td>\n",
       "    </tr>\n",
       "    <tr>\n",
       "      <th>3</th>\n",
       "      <td>854405182328779</td>\n",
       "      <td>Northeast</td>\n",
       "      <td>Own</td>\n",
       "      <td>83</td>\n",
       "    </tr>\n",
       "    <tr>\n",
       "      <th>4</th>\n",
       "      <td>769102176031316</td>\n",
       "      <td>West</td>\n",
       "      <td>Own</td>\n",
       "      <td>85</td>\n",
       "    </tr>\n",
       "  </tbody>\n",
       "</table>\n",
       "</div>"
      ],
      "text/plain": [
       "         client_id client_geographical_region client_residence_status  \\\n",
       "0  538839486596724                  Northeast                    Rent   \n",
       "1  321708286091707                       West                     Own   \n",
       "2  848531901757235                    Midwest                     Own   \n",
       "3  854405182328779                  Northeast                     Own   \n",
       "4  769102176031316                       West                     Own   \n",
       "\n",
       "   client_age  \n",
       "0          91  \n",
       "1          83  \n",
       "2          84  \n",
       "3          83  \n",
       "4          85  "
      ]
     },
     "execution_count": 8,
     "metadata": {},
     "output_type": "execute_result"
    }
   ],
   "source": [
    "client_data.head()"
   ]
  },
  {
   "cell_type": "code",
   "execution_count": null,
   "metadata": {},
   "outputs": [],
   "source": []
  },
  {
   "cell_type": "code",
   "execution_count": 9,
   "metadata": {},
   "outputs": [
    {
     "data": {
      "text/html": [
       "<div>\n",
       "<style scoped>\n",
       "    .dataframe tbody tr th:only-of-type {\n",
       "        vertical-align: middle;\n",
       "    }\n",
       "\n",
       "    .dataframe tbody tr th {\n",
       "        vertical-align: top;\n",
       "    }\n",
       "\n",
       "    .dataframe thead th {\n",
       "        text-align: right;\n",
       "    }\n",
       "</style>\n",
       "<table border=\"1\" class=\"dataframe\">\n",
       "  <thead>\n",
       "    <tr style=\"text-align: right;\">\n",
       "      <th></th>\n",
       "      <th>client_id</th>\n",
       "      <th>deposit_type</th>\n",
       "      <th>deposit_amount</th>\n",
       "      <th>deposit_cadence</th>\n",
       "      <th>deposit_date</th>\n",
       "    </tr>\n",
       "  </thead>\n",
       "  <tbody>\n",
       "    <tr>\n",
       "      <th>0</th>\n",
       "      <td>446495122764671</td>\n",
       "      <td>Actual Deposit</td>\n",
       "      <td>303.0</td>\n",
       "      <td>Monthly</td>\n",
       "      <td>2019-10-23</td>\n",
       "    </tr>\n",
       "    <tr>\n",
       "      <th>1</th>\n",
       "      <td>446495122764671</td>\n",
       "      <td>Actual Deposit</td>\n",
       "      <td>303.0</td>\n",
       "      <td>Monthly</td>\n",
       "      <td>2019-09-23</td>\n",
       "    </tr>\n",
       "    <tr>\n",
       "      <th>2</th>\n",
       "      <td>446495122764671</td>\n",
       "      <td>Scheduled Deposit</td>\n",
       "      <td>303.0</td>\n",
       "      <td>Monthly</td>\n",
       "      <td>2019-09-23</td>\n",
       "    </tr>\n",
       "    <tr>\n",
       "      <th>3</th>\n",
       "      <td>446495122764671</td>\n",
       "      <td>Scheduled Deposit</td>\n",
       "      <td>303.0</td>\n",
       "      <td>Monthly</td>\n",
       "      <td>2019-10-23</td>\n",
       "    </tr>\n",
       "    <tr>\n",
       "      <th>4</th>\n",
       "      <td>446495122764671</td>\n",
       "      <td>Scheduled Deposit</td>\n",
       "      <td>303.0</td>\n",
       "      <td>Monthly</td>\n",
       "      <td>2019-06-23</td>\n",
       "    </tr>\n",
       "  </tbody>\n",
       "</table>\n",
       "</div>"
      ],
      "text/plain": [
       "         client_id       deposit_type  deposit_amount deposit_cadence  \\\n",
       "0  446495122764671     Actual Deposit           303.0         Monthly   \n",
       "1  446495122764671     Actual Deposit           303.0         Monthly   \n",
       "2  446495122764671  Scheduled Deposit           303.0         Monthly   \n",
       "3  446495122764671  Scheduled Deposit           303.0         Monthly   \n",
       "4  446495122764671  Scheduled Deposit           303.0         Monthly   \n",
       "\n",
       "  deposit_date  \n",
       "0   2019-10-23  \n",
       "1   2019-09-23  \n",
       "2   2019-09-23  \n",
       "3   2019-10-23  \n",
       "4   2019-06-23  "
      ]
     },
     "execution_count": 9,
     "metadata": {},
     "output_type": "execute_result"
    }
   ],
   "source": [
    "deposit_data.head()"
   ]
  },
  {
   "cell_type": "code",
   "execution_count": 14,
   "metadata": {},
   "outputs": [
    {
     "name": "stdout",
     "output_type": "stream",
     "text": [
      "<class 'pandas.core.frame.DataFrame'>\n",
      "RangeIndex: 480394 entries, 0 to 480393\n",
      "Data columns (total 5 columns):\n",
      " #   Column           Non-Null Count   Dtype  \n",
      "---  ------           --------------   -----  \n",
      " 0   client_id        480394 non-null  int64  \n",
      " 1   deposit_type     480394 non-null  object \n",
      " 2   deposit_amount   480394 non-null  float64\n",
      " 3   deposit_cadence  480394 non-null  object \n",
      " 4   deposit_date     480394 non-null  object \n",
      "dtypes: float64(1), int64(1), object(3)\n",
      "memory usage: 18.3+ MB\n"
     ]
    }
   ],
   "source": [
    "deposit_data.info()"
   ]
  },
  {
   "cell_type": "code",
   "execution_count": 49,
   "metadata": {},
   "outputs": [
    {
     "data": {
      "text/plain": [
       "deposit_cadence\n",
       "Monthly     262858\n",
       "Biweekly    209189\n",
       "Extra         8347\n",
       "Name: count, dtype: int64"
      ]
     },
     "execution_count": 49,
     "metadata": {},
     "output_type": "execute_result"
    }
   ],
   "source": [
    "deposit_data['deposit_cadence'].value_counts()"
   ]
  },
  {
   "cell_type": "code",
   "execution_count": 15,
   "metadata": {},
   "outputs": [],
   "source": [
    "deposit_data['deposit_date'] = pd.to_datetime(deposit_data['deposit_date'])"
   ]
  },
  {
   "cell_type": "code",
   "execution_count": 25,
   "metadata": {},
   "outputs": [
    {
     "data": {
      "text/plain": [
       "480394"
      ]
     },
     "execution_count": 25,
     "metadata": {},
     "output_type": "execute_result"
    }
   ],
   "source": [
    "len(deposit_data)"
   ]
  },
  {
   "cell_type": "code",
   "execution_count": null,
   "metadata": {},
   "outputs": [],
   "source": []
  },
  {
   "cell_type": "code",
   "execution_count": 10,
   "metadata": {},
   "outputs": [
    {
     "data": {
      "text/html": [
       "<div>\n",
       "<style scoped>\n",
       "    .dataframe tbody tr th:only-of-type {\n",
       "        vertical-align: middle;\n",
       "    }\n",
       "\n",
       "    .dataframe tbody tr th {\n",
       "        vertical-align: top;\n",
       "    }\n",
       "\n",
       "    .dataframe thead th {\n",
       "        text-align: right;\n",
       "    }\n",
       "</style>\n",
       "<table border=\"1\" class=\"dataframe\">\n",
       "  <thead>\n",
       "    <tr style=\"text-align: right;\">\n",
       "      <th></th>\n",
       "      <th>gregorian_date</th>\n",
       "      <th>month_name</th>\n",
       "    </tr>\n",
       "  </thead>\n",
       "  <tbody>\n",
       "    <tr>\n",
       "      <th>0</th>\n",
       "      <td>2019-06-01</td>\n",
       "      <td>Month 1</td>\n",
       "    </tr>\n",
       "    <tr>\n",
       "      <th>1</th>\n",
       "      <td>2019-06-02</td>\n",
       "      <td>Month 1</td>\n",
       "    </tr>\n",
       "    <tr>\n",
       "      <th>2</th>\n",
       "      <td>2019-06-03</td>\n",
       "      <td>Month 1</td>\n",
       "    </tr>\n",
       "    <tr>\n",
       "      <th>3</th>\n",
       "      <td>2019-06-04</td>\n",
       "      <td>Month 1</td>\n",
       "    </tr>\n",
       "    <tr>\n",
       "      <th>4</th>\n",
       "      <td>2019-06-05</td>\n",
       "      <td>Month 1</td>\n",
       "    </tr>\n",
       "  </tbody>\n",
       "</table>\n",
       "</div>"
      ],
      "text/plain": [
       "  gregorian_date month_name\n",
       "0     2019-06-01    Month 1\n",
       "1     2019-06-02    Month 1\n",
       "2     2019-06-03    Month 1\n",
       "3     2019-06-04    Month 1\n",
       "4     2019-06-05    Month 1"
      ]
     },
     "execution_count": 10,
     "metadata": {},
     "output_type": "execute_result"
    }
   ],
   "source": [
    "calendar_data.head()"
   ]
  },
  {
   "cell_type": "code",
   "execution_count": 23,
   "metadata": {},
   "outputs": [
    {
     "data": {
      "text/html": [
       "<div>\n",
       "<style scoped>\n",
       "    .dataframe tbody tr th:only-of-type {\n",
       "        vertical-align: middle;\n",
       "    }\n",
       "\n",
       "    .dataframe tbody tr th {\n",
       "        vertical-align: top;\n",
       "    }\n",
       "\n",
       "    .dataframe thead th {\n",
       "        text-align: right;\n",
       "    }\n",
       "</style>\n",
       "<table border=\"1\" class=\"dataframe\">\n",
       "  <thead>\n",
       "    <tr style=\"text-align: right;\">\n",
       "      <th></th>\n",
       "      <th>gregorian_date</th>\n",
       "      <th>month_name</th>\n",
       "    </tr>\n",
       "  </thead>\n",
       "  <tbody>\n",
       "    <tr>\n",
       "      <th>0</th>\n",
       "      <td>2019-06-01</td>\n",
       "      <td>Month 1</td>\n",
       "    </tr>\n",
       "    <tr>\n",
       "      <th>1</th>\n",
       "      <td>2019-06-02</td>\n",
       "      <td>Month 1</td>\n",
       "    </tr>\n",
       "    <tr>\n",
       "      <th>2</th>\n",
       "      <td>2019-06-03</td>\n",
       "      <td>Month 1</td>\n",
       "    </tr>\n",
       "    <tr>\n",
       "      <th>3</th>\n",
       "      <td>2019-06-04</td>\n",
       "      <td>Month 1</td>\n",
       "    </tr>\n",
       "    <tr>\n",
       "      <th>4</th>\n",
       "      <td>2019-06-05</td>\n",
       "      <td>Month 1</td>\n",
       "    </tr>\n",
       "  </tbody>\n",
       "</table>\n",
       "</div>"
      ],
      "text/plain": [
       "  gregorian_date month_name\n",
       "0     2019-06-01    Month 1\n",
       "1     2019-06-02    Month 1\n",
       "2     2019-06-03    Month 1\n",
       "3     2019-06-04    Month 1\n",
       "4     2019-06-05    Month 1"
      ]
     },
     "execution_count": 23,
     "metadata": {},
     "output_type": "execute_result"
    }
   ],
   "source": [
    "calendar_data['gregorian_date'] = pd.to_datetime(calendar_data['gregorian_date'])\n",
    "calendar_data.head()"
   ]
  },
  {
   "cell_type": "code",
   "execution_count": null,
   "metadata": {},
   "outputs": [],
   "source": []
  },
  {
   "cell_type": "code",
   "execution_count": null,
   "metadata": {},
   "outputs": [],
   "source": [
    "# Combining deposit data and calendar data for further analysis"
   ]
  },
  {
   "cell_type": "code",
   "execution_count": 40,
   "metadata": {},
   "outputs": [],
   "source": [
    "df1 = pd.merge(left=deposit_data, right=calendar_data, how='left', left_on='deposit_date',right_on='gregorian_date')"
   ]
  },
  {
   "cell_type": "code",
   "execution_count": 41,
   "metadata": {},
   "outputs": [
    {
     "data": {
      "text/html": [
       "<div>\n",
       "<style scoped>\n",
       "    .dataframe tbody tr th:only-of-type {\n",
       "        vertical-align: middle;\n",
       "    }\n",
       "\n",
       "    .dataframe tbody tr th {\n",
       "        vertical-align: top;\n",
       "    }\n",
       "\n",
       "    .dataframe thead th {\n",
       "        text-align: right;\n",
       "    }\n",
       "</style>\n",
       "<table border=\"1\" class=\"dataframe\">\n",
       "  <thead>\n",
       "    <tr style=\"text-align: right;\">\n",
       "      <th></th>\n",
       "      <th>client_id</th>\n",
       "      <th>deposit_type</th>\n",
       "      <th>deposit_amount</th>\n",
       "      <th>deposit_cadence</th>\n",
       "      <th>deposit_date</th>\n",
       "      <th>gregorian_date</th>\n",
       "      <th>month_name</th>\n",
       "    </tr>\n",
       "  </thead>\n",
       "  <tbody>\n",
       "    <tr>\n",
       "      <th>0</th>\n",
       "      <td>446495122764671</td>\n",
       "      <td>Actual Deposit</td>\n",
       "      <td>303.0</td>\n",
       "      <td>Monthly</td>\n",
       "      <td>2019-10-23</td>\n",
       "      <td>2019-10-23</td>\n",
       "      <td>Month 5</td>\n",
       "    </tr>\n",
       "    <tr>\n",
       "      <th>1</th>\n",
       "      <td>446495122764671</td>\n",
       "      <td>Actual Deposit</td>\n",
       "      <td>303.0</td>\n",
       "      <td>Monthly</td>\n",
       "      <td>2019-09-23</td>\n",
       "      <td>2019-09-23</td>\n",
       "      <td>Month 4</td>\n",
       "    </tr>\n",
       "    <tr>\n",
       "      <th>2</th>\n",
       "      <td>446495122764671</td>\n",
       "      <td>Scheduled Deposit</td>\n",
       "      <td>303.0</td>\n",
       "      <td>Monthly</td>\n",
       "      <td>2019-09-23</td>\n",
       "      <td>2019-09-23</td>\n",
       "      <td>Month 4</td>\n",
       "    </tr>\n",
       "    <tr>\n",
       "      <th>3</th>\n",
       "      <td>446495122764671</td>\n",
       "      <td>Scheduled Deposit</td>\n",
       "      <td>303.0</td>\n",
       "      <td>Monthly</td>\n",
       "      <td>2019-10-23</td>\n",
       "      <td>2019-10-23</td>\n",
       "      <td>Month 5</td>\n",
       "    </tr>\n",
       "    <tr>\n",
       "      <th>4</th>\n",
       "      <td>446495122764671</td>\n",
       "      <td>Scheduled Deposit</td>\n",
       "      <td>303.0</td>\n",
       "      <td>Monthly</td>\n",
       "      <td>2019-06-23</td>\n",
       "      <td>2019-06-23</td>\n",
       "      <td>Month 1</td>\n",
       "    </tr>\n",
       "  </tbody>\n",
       "</table>\n",
       "</div>"
      ],
      "text/plain": [
       "         client_id       deposit_type  deposit_amount deposit_cadence  \\\n",
       "0  446495122764671     Actual Deposit           303.0         Monthly   \n",
       "1  446495122764671     Actual Deposit           303.0         Monthly   \n",
       "2  446495122764671  Scheduled Deposit           303.0         Monthly   \n",
       "3  446495122764671  Scheduled Deposit           303.0         Monthly   \n",
       "4  446495122764671  Scheduled Deposit           303.0         Monthly   \n",
       "\n",
       "  deposit_date gregorian_date month_name  \n",
       "0   2019-10-23     2019-10-23    Month 5  \n",
       "1   2019-09-23     2019-09-23    Month 4  \n",
       "2   2019-09-23     2019-09-23    Month 4  \n",
       "3   2019-10-23     2019-10-23    Month 5  \n",
       "4   2019-06-23     2019-06-23    Month 1  "
      ]
     },
     "execution_count": 41,
     "metadata": {},
     "output_type": "execute_result"
    }
   ],
   "source": [
    "df1.head()"
   ]
  },
  {
   "cell_type": "code",
   "execution_count": 42,
   "metadata": {},
   "outputs": [],
   "source": [
    "df = pd.merge(left=df1, right=client_data, how='left', left_on='client_id',right_on='client_id')"
   ]
  },
  {
   "cell_type": "markdown",
   "metadata": {},
   "source": []
  },
  {
   "cell_type": "code",
   "execution_count": 44,
   "metadata": {},
   "outputs": [
    {
     "data": {
      "text/plain": [
       "480394"
      ]
     },
     "execution_count": 44,
     "metadata": {},
     "output_type": "execute_result"
    }
   ],
   "source": [
    "len(df)"
   ]
  },
  {
   "cell_type": "code",
   "execution_count": 75,
   "metadata": {},
   "outputs": [],
   "source": [
    "summary = df.groupby(['month_name','deposit_type'])['deposit_amount'].agg(func=['mean','count','sum'])"
   ]
  },
  {
   "cell_type": "code",
   "execution_count": 76,
   "metadata": {},
   "outputs": [
    {
     "data": {
      "text/html": [
       "<div>\n",
       "<style scoped>\n",
       "    .dataframe tbody tr th:only-of-type {\n",
       "        vertical-align: middle;\n",
       "    }\n",
       "\n",
       "    .dataframe tbody tr th {\n",
       "        vertical-align: top;\n",
       "    }\n",
       "\n",
       "    .dataframe thead th {\n",
       "        text-align: right;\n",
       "    }\n",
       "</style>\n",
       "<table border=\"1\" class=\"dataframe\">\n",
       "  <thead>\n",
       "    <tr style=\"text-align: right;\">\n",
       "      <th></th>\n",
       "      <th></th>\n",
       "      <th>mean</th>\n",
       "      <th>count</th>\n",
       "      <th>sum</th>\n",
       "    </tr>\n",
       "    <tr>\n",
       "      <th>month_name</th>\n",
       "      <th>deposit_type</th>\n",
       "      <th></th>\n",
       "      <th></th>\n",
       "      <th></th>\n",
       "    </tr>\n",
       "  </thead>\n",
       "  <tbody>\n",
       "    <tr>\n",
       "      <th rowspan=\"2\" valign=\"top\">Month 1</th>\n",
       "      <th>Actual Deposit</th>\n",
       "      <td>381.519229</td>\n",
       "      <td>37456</td>\n",
       "      <td>14290184.25</td>\n",
       "    </tr>\n",
       "    <tr>\n",
       "      <th>Scheduled Deposit</th>\n",
       "      <td>371.421233</td>\n",
       "      <td>40371</td>\n",
       "      <td>14994646.61</td>\n",
       "    </tr>\n",
       "    <tr>\n",
       "      <th rowspan=\"2\" valign=\"top\">Month 2</th>\n",
       "      <th>Actual Deposit</th>\n",
       "      <td>377.894721</td>\n",
       "      <td>38777</td>\n",
       "      <td>14653623.58</td>\n",
       "    </tr>\n",
       "    <tr>\n",
       "      <th>Scheduled Deposit</th>\n",
       "      <td>367.693533</td>\n",
       "      <td>41428</td>\n",
       "      <td>15232807.69</td>\n",
       "    </tr>\n",
       "    <tr>\n",
       "      <th rowspan=\"2\" valign=\"top\">Month 3</th>\n",
       "      <th>Actual Deposit</th>\n",
       "      <td>373.865788</td>\n",
       "      <td>52223</td>\n",
       "      <td>19524393.05</td>\n",
       "    </tr>\n",
       "    <tr>\n",
       "      <th>Scheduled Deposit</th>\n",
       "      <td>358.030348</td>\n",
       "      <td>56282</td>\n",
       "      <td>20150664.05</td>\n",
       "    </tr>\n",
       "    <tr>\n",
       "      <th rowspan=\"2\" valign=\"top\">Month 4</th>\n",
       "      <th>Actual Deposit</th>\n",
       "      <td>362.549867</td>\n",
       "      <td>52273</td>\n",
       "      <td>18951569.18</td>\n",
       "    </tr>\n",
       "    <tr>\n",
       "      <th>Scheduled Deposit</th>\n",
       "      <td>354.290045</td>\n",
       "      <td>55221</td>\n",
       "      <td>19564250.55</td>\n",
       "    </tr>\n",
       "    <tr>\n",
       "      <th rowspan=\"2\" valign=\"top\">Month 5</th>\n",
       "      <th>Actual Deposit</th>\n",
       "      <td>361.030182</td>\n",
       "      <td>51679</td>\n",
       "      <td>18657678.80</td>\n",
       "    </tr>\n",
       "    <tr>\n",
       "      <th>Scheduled Deposit</th>\n",
       "      <td>355.195239</td>\n",
       "      <td>54684</td>\n",
       "      <td>19423496.43</td>\n",
       "    </tr>\n",
       "  </tbody>\n",
       "</table>\n",
       "</div>"
      ],
      "text/plain": [
       "                                    mean  count          sum\n",
       "month_name deposit_type                                     \n",
       "Month 1    Actual Deposit     381.519229  37456  14290184.25\n",
       "           Scheduled Deposit  371.421233  40371  14994646.61\n",
       "Month 2    Actual Deposit     377.894721  38777  14653623.58\n",
       "           Scheduled Deposit  367.693533  41428  15232807.69\n",
       "Month 3    Actual Deposit     373.865788  52223  19524393.05\n",
       "           Scheduled Deposit  358.030348  56282  20150664.05\n",
       "Month 4    Actual Deposit     362.549867  52273  18951569.18\n",
       "           Scheduled Deposit  354.290045  55221  19564250.55\n",
       "Month 5    Actual Deposit     361.030182  51679  18657678.80\n",
       "           Scheduled Deposit  355.195239  54684  19423496.43"
      ]
     },
     "execution_count": 76,
     "metadata": {},
     "output_type": "execute_result"
    }
   ],
   "source": [
    "summary"
   ]
  },
  {
   "cell_type": "code",
   "execution_count": null,
   "metadata": {},
   "outputs": [],
   "source": []
  },
  {
   "cell_type": "markdown",
   "metadata": {},
   "source": [
    "1. EDA"
   ]
  },
  {
   "cell_type": "code",
   "execution_count": null,
   "metadata": {},
   "outputs": [],
   "source": [
    "# Let us see the impact on mean deposit amount"
   ]
  },
  {
   "cell_type": "code",
   "execution_count": 38,
   "metadata": {},
   "outputs": [
    {
     "data": {
      "text/plain": [
       "<Axes: xlabel='month_name', ylabel='deposit_amount'>"
      ]
     },
     "execution_count": 38,
     "metadata": {},
     "output_type": "execute_result"
    },
    {
     "data": {
      "image/png": "[encoded data removed]",
      "text/plain": [
       "<Figure size 640x480 with 1 Axes>"
      ]
     },
     "metadata": {},
     "output_type": "display_data"
    }
   ],
   "source": [
    "month =[f'Month {i}' for i in range(1,6)]\n",
    "\n",
    "sns.barplot(data= df, x='month_name', y = 'deposit_amount', estimator='mean',hue='deposit_type', order= month)"
   ]
  },
  {
   "cell_type": "code",
   "execution_count": null,
   "metadata": {},
   "outputs": [],
   "source": []
  },
  {
   "cell_type": "code",
   "execution_count": 69,
   "metadata": {},
   "outputs": [],
   "source": []
  },
  {
   "cell_type": "code",
   "execution_count": null,
   "metadata": {},
   "outputs": [],
   "source": [
    "# Let us see the impact on total deposit amount"
   ]
  },
  {
   "cell_type": "code",
   "execution_count": 73,
   "metadata": {},
   "outputs": [
    {
     "data": {
      "text/plain": [
       "<Axes: xlabel='month_name', ylabel='sum'>"
      ]
     },
     "execution_count": 73,
     "metadata": {},
     "output_type": "execute_result"
    },
    {
     "data": {
      "image/png": "[encoded data removed]",
      "text/plain": [
       "<Figure size 640x480 with 1 Axes>"
      ]
     },
     "metadata": {},
     "output_type": "display_data"
    }
   ],
   "source": [
    "sns.lineplot(data= summary, x='month_name', y = 'sum',hue='deposit_type')"
   ]
  },
  {
   "cell_type": "code",
   "execution_count": 47,
   "metadata": {},
   "outputs": [
    {
     "data": {
      "text/plain": [
       "<Axes: xlabel='month_name', ylabel='deposit_amount'>"
      ]
     },
     "execution_count": 47,
     "metadata": {},
     "output_type": "execute_result"
    },
    {
     "data": {
      "image/png": "[encoded data removed]",
      "text/plain": [
       "<Figure size 640x480 with 1 Axes>"
      ]
     },
     "metadata": {},
     "output_type": "display_data"
    }
   ],
   "source": [
    "sns.barplot(data= df, x='month_name', y = 'deposit_amount', estimator='sum',hue='client_residence_status', order=month)"
   ]
  },
  {
   "cell_type": "code",
   "execution_count": 45,
   "metadata": {},
   "outputs": [
    {
     "data": {
      "text/plain": [
       "<Axes: xlabel='month_name', ylabel='deposit_amount'>"
      ]
     },
     "execution_count": 45,
     "metadata": {},
     "output_type": "execute_result"
    },
    {
     "data": {
      "image/png": "[encoded data removed]",
      "text/plain": [
       "<Figure size 640x480 with 1 Axes>"
      ]
     },
     "metadata": {},
     "output_type": "display_data"
    }
   ],
   "source": [
    "sns.barplot(data= df, x='month_name', y = 'deposit_amount', estimator='sum',hue='client_geographical_region', order=month)"
   ]
  },
  {
   "cell_type": "code",
   "execution_count": 68,
   "metadata": {},
   "outputs": [],
   "source": []
  },
  {
   "cell_type": "code",
   "execution_count": null,
   "metadata": {},
   "outputs": [],
   "source": [
    "# Let us see the impact on total number of deposits "
   ]
  },
  {
   "cell_type": "code",
   "execution_count": 77,
   "metadata": {},
   "outputs": [
    {
     "data": {
      "text/plain": [
       "<Axes: xlabel='month_name', ylabel='count'>"
      ]
     },
     "execution_count": 77,
     "metadata": {},
     "output_type": "execute_result"
    },
    {
     "data": {
      "image/png": "[encoded data removed]",
      "text/plain": [
       "<Figure size 640x480 with 1 Axes>"
      ]
     },
     "metadata": {},
     "output_type": "display_data"
    }
   ],
   "source": [
    "sns.lineplot(data= summary, x='month_name',y='count' ,hue='deposit_type')"
   ]
  },
  {
   "cell_type": "code",
   "execution_count": 100,
   "metadata": {},
   "outputs": [],
   "source": [
    "client_pre = set(df[(df['month_name'] == \"Month 1\") |(df['month_name'] == \"Month 2\") ]['client_id'].unique())\n",
    "client_on = set(df[df['month_name'] == \"Month 3\"]['client_id'].unique())\n",
    "client_post = set(df[(df['month_name'] == \"Month 4\") |(df['month_name'] == \"Month 5\") ]['client_id'].unique())"
   ]
  },
  {
   "cell_type": "code",
   "execution_count": 101,
   "metadata": {},
   "outputs": [
    {
     "data": {
      "text/plain": [
       "11544"
      ]
     },
     "execution_count": 101,
     "metadata": {},
     "output_type": "execute_result"
    }
   ],
   "source": [
    "#client acquired during campaign\n",
    "len(client_on - client_pre )"
   ]
  },
  {
   "cell_type": "code",
   "execution_count": null,
   "metadata": {},
   "outputs": [],
   "source": []
  },
  {
   "cell_type": "code",
   "execution_count": 102,
   "metadata": {},
   "outputs": [
    {
     "data": {
      "text/plain": [
       "752"
      ]
     },
     "execution_count": 102,
     "metadata": {},
     "output_type": "execute_result"
    }
   ],
   "source": [
    "# Client acquired after campaign\n",
    "len(client_post - (client_on | client_pre ) )"
   ]
  },
  {
   "cell_type": "code",
   "execution_count": null,
   "metadata": {},
   "outputs": [],
   "source": [
    "#Question 1\n",
    "#Provide a quantitative assessment of whether the marketing campaign was successful. How and why did you choose your specific success metric(s)?\n",
    "\n"
   ]
  },
  {
   "cell_type": "code",
   "execution_count": null,
   "metadata": {},
   "outputs": [],
   "source": [
    "\"\"\"\n",
    "We know that the ad campaign was running during the 3rd month of our data set. A huge spike can be noticed in the line plot titled \"Deposit amount per month\" in the month of 3, i.e., while the campaign was running. Since then, the deposit amount has been slowly decreasing but has remained at very higher levels than before the campaign.\n",
    "\n",
    "During the third month of the dataset, an advertising campaign was implemented, resulting in a significant spike in deposit amounts for Freedom Debt Relief. This spike amounted to almost $10 million more than previous months. Subsequently, in the months following the campaign, although there was a gradual decline in deposit amounts, they remained substantially higher than before the campaign, with $8.5 million in the immediate month after and $8 million in the last month of data.\n",
    "\n",
    "The cost of the campaign was $5 million, and the incurred deposit amount increased by a total of $26.5 million. A quick Google search for \"freedom debt relief pricing\" reveals an 18-25% fee incurred by the company for its services. \n",
    "Assuming the lowest, 18% fee for all clients, we observe an increase in profits to $4.77 million (26.5M * 18%). While this looks like a loss of $230K for the campaign, it is important to note that the trend shows this would have been much higher without the campaign, and it is very unlikely that the minimum fee is applied to all clients, so this number should be treated as the most pessimistic estimate.\n",
    "\n",
    "\n",
    "\"\"\""
   ]
  },
  {
   "cell_type": "code",
   "execution_count": null,
   "metadata": {},
   "outputs": [],
   "source": []
  },
  {
   "cell_type": "code",
   "execution_count": null,
   "metadata": {},
   "outputs": [],
   "source": [
    "# Question 2\n",
    "# Based on the provided data, how would you recommend campaign strategy be adjusted in the future to improve performance?"
   ]
  },
  {
   "cell_type": "code",
   "execution_count": null,
   "metadata": {},
   "outputs": [],
   "source": [
    "\"\"\"\n",
    "We find that the campaign has been most effective in North area. Region like south, northeast and midwest needs to be targeted more\n",
    "\n",
    "Campaign has been effective in increaasing the customer who owned the house but the ones who are on rented. We can modify campaign comunication for this audience as well\n",
    "\n",
    "\n",
    "\n",
    "\n",
    "\"\"\""
   ]
  },
  {
   "cell_type": "code",
   "execution_count": null,
   "metadata": {},
   "outputs": [],
   "source": []
  },
  {
   "cell_type": "code",
   "execution_count": null,
   "metadata": {},
   "outputs": [],
   "source": [
    "#Question 3\n",
    "#How do you think campaign performance would have changed if we did not run the campaign in Month 3, but instead postponed it until month 6? Provide an incremental number versus your result in Question #1."
   ]
  },
  {
   "cell_type": "code",
   "execution_count": null,
   "metadata": {},
   "outputs": [],
   "source": [
    "\"\"\"\n",
    "One way we can simulate the postponement of the campaign is to \"postpone\" the deposits coming from new clients who were acquired during the third month. We (strongly) assume that the clients who made their first deposit in the third month in the data set are acquired due to the campaign; this is not necessarily correct, but for the sake of the exercise we can treat it as if it were.\n",
    "\n",
    "Technically speaking, this means we should take the following steps.\n",
    "\n",
    "Identify which clients made their first deposit in the third month, i.e., were acquired because of the campaign. (we have already done that in previous sections)\n",
    "Postpone their deposits until after the fifth month, i.e., add exactly three months to the date of their deposit.\n",
    "Re-run the same analyses from Question 1 and make summarise the difference in the results.\n",
    "\"\"\""
   ]
  },
  {
   "cell_type": "code",
   "execution_count": 103,
   "metadata": {},
   "outputs": [],
   "source": [
    "df_copy = df.copy(deep=True)"
   ]
  },
  {
   "cell_type": "code",
   "execution_count": 104,
   "metadata": {},
   "outputs": [],
   "source": [
    "new_clients = set(client_on).difference(set(client_pre))"
   ]
  },
  {
   "cell_type": "code",
   "execution_count": 105,
   "metadata": {},
   "outputs": [],
   "source": [
    "import datetime\n",
    "\n",
    "def simulate_campaign_postponement(row):\n",
    "    if row.client_id in new_clients:\n",
    "        row.deposit_date = pd.to_datetime(row.deposit_date) + datetime.timedelta(days=90)\n",
    "        if row.month_name == \"Month 3\":\n",
    "            row.month_name = \"Month 6\"\n",
    "        elif row.month_name == \"Month 4\":\n",
    "            row.month_name = \"Month 7\"\n",
    "        elif row.month_name == \"Month 5\":\n",
    "            row.month_name = \"Month 8\"\n",
    "    else:\n",
    "        row.deposit_date = pd.to_datetime(row.deposit_date)\n",
    "    return row\n",
    "\n",
    "df_copy = df_copy.apply(func=simulate_campaign_postponement, axis=1)"
   ]
  },
  {
   "cell_type": "code",
   "execution_count": 106,
   "metadata": {},
   "outputs": [],
   "source": [
    "avg_monthly_deposit = (df_copy.groupby(by=df_copy[\"month_name\"])[\"deposit_amount\"].sum()).mean()"
   ]
  },
  {
   "cell_type": "code",
   "execution_count": 107,
   "metadata": {},
   "outputs": [
    {
     "name": "stdout",
     "output_type": "stream",
     "text": [
      "month_name\n",
      "Month 1    2.928483e+07\n",
      "Month 2    2.988643e+07\n",
      "Month 3    3.000242e+07\n",
      "Month 4    2.730677e+07\n",
      "Month 5    2.813815e+07\n",
      "Month 6    3.160305e+07\n",
      "Month 7    3.313946e+07\n",
      "Month 8    3.187344e+07\n",
      "Name: deposit_amount, dtype: float64\n"
     ]
    },
    {
     "data": {
      "image/png": "[encoded data removed]",
      "text/plain": [
       "<Figure size 640x480 with 1 Axes>"
      ]
     },
     "metadata": {},
     "output_type": "display_data"
    }
   ],
   "source": [
    "deposit_amount_by_month = df_copy.groupby(by=df_copy[\"month_name\"])[\"deposit_amount\"].sum()\n",
    "\n",
    "\n",
    "deposit_amount_by_month.at[\"Month 6\"] += avg_monthly_deposit\n",
    "deposit_amount_by_month.at[\"Month 7\"] += avg_monthly_deposit\n",
    "deposit_amount_by_month.at[\"Month 8\"] += avg_monthly_deposit\n",
    "\n",
    "print(deposit_amount_by_month)\n",
    "\n",
    "\n",
    "_ = plt.plot(deposit_amount_by_month)\n",
    "\n",
    "_ = plt.title(\"Deposit amount by month\")\n",
    "_ = plt.ylabel(\"Deposit amount\")\n",
    "_ = plt.xlabel(\"Month\")"
   ]
  },
  {
   "cell_type": "code",
   "execution_count": null,
   "metadata": {},
   "outputs": [],
   "source": [
    "\"\"\"\n",
    "The simulation shows quite an increase in deposits. Following are some key points to summarise the difference from the answer provided in Question 1.\n",
    "\n",
    "During the month the campaign was running, Freedom Debt Relief received almost $2.5 million increase in deposit amounts than previous months, compared to $10 million in Question 1.\n",
    "\n",
    "In the month following the campaign, the total deposit amount continues to increase to reach its maximum at $33 million. In the last month, it drops to $31 million but remains on a higher level than pre-campaign.\n",
    "\n",
    "The cost of the campaign was $5 million, and the incurred deposit amount increased by a total of $8 million. In Question 1 this number was much higher: $26 million, and we determined that that was borderline profitable. So, $8 million is much lower, and we conclude that postponing the campaign would have not been the right choice.\n",
    "\n",
    "\"\"\""
   ]
  }
 ],
 "metadata": {
  "kernelspec": {
   "display_name": "Python 3",
   "language": "python",
   "name": "python3"
  },
  "language_info": {
   "codemirror_mode": {
    "name": "ipython",
    "version": 3
   },
   "file_extension": ".py",
   "mimetype": "text/x-python",
   "name": "python",
   "nbconvert_exporter": "python",
   "pygments_lexer": "ipython3",
   "version": "3.11.3"
  }
 },
 "nbformat": 4,
 "nbformat_minor": 2
}
