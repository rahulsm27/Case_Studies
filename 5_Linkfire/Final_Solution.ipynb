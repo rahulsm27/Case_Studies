{
 "cells": [
  {
   "cell_type": "code",
   "execution_count": 1,
   "metadata": {},
   "outputs": [],
   "source": [
    "# Importing libraries\n",
    "\n",
    "import pandas as pd \n",
    "import numpy as np\n",
    "\n",
    "import matplotlib.pyplot as plt \n",
    "import seaborn as sns\n",
    "%matplotlib inline\n",
    "\n",
    "import os\n",
    "from datetime import datetime"
   ]
  },
  {
   "cell_type": "code",
   "execution_count": null,
   "metadata": {},
   "outputs": [],
   "source": [
    "# Reading the data"
   ]
  },
  {
   "cell_type": "code",
   "execution_count": 2,
   "metadata": {},
   "outputs": [],
   "source": [
    "df = pd.read_csv(\"./datasets/traffic.csv\")"
   ]
  },
  {
   "cell_type": "code",
   "execution_count": 7,
   "metadata": {},
   "outputs": [
    {
     "data": {
      "text/html": [
       "<div>\n",
       "<style scoped>\n",
       "    .dataframe tbody tr th:only-of-type {\n",
       "        vertical-align: middle;\n",
       "    }\n",
       "\n",
       "    .dataframe tbody tr th {\n",
       "        vertical-align: top;\n",
       "    }\n",
       "\n",
       "    .dataframe thead th {\n",
       "        text-align: right;\n",
       "    }\n",
       "</style>\n",
       "<table border=\"1\" class=\"dataframe\">\n",
       "  <thead>\n",
       "    <tr style=\"text-align: right;\">\n",
       "      <th></th>\n",
       "      <th>event</th>\n",
       "      <th>date</th>\n",
       "      <th>country</th>\n",
       "      <th>city</th>\n",
       "      <th>artist</th>\n",
       "      <th>album</th>\n",
       "      <th>track</th>\n",
       "      <th>isrc</th>\n",
       "      <th>linkid</th>\n",
       "    </tr>\n",
       "  </thead>\n",
       "  <tbody>\n",
       "    <tr>\n",
       "      <th>0</th>\n",
       "      <td>click</td>\n",
       "      <td>2021-08-21</td>\n",
       "      <td>Saudi Arabia</td>\n",
       "      <td>Jeddah</td>\n",
       "      <td>Tesher</td>\n",
       "      <td>Jalebi Baby</td>\n",
       "      <td>Jalebi Baby</td>\n",
       "      <td>QZNWQ2070741</td>\n",
       "      <td>2d896d31-97b6-4869-967b-1c5fb9cd4bb8</td>\n",
       "    </tr>\n",
       "    <tr>\n",
       "      <th>1</th>\n",
       "      <td>click</td>\n",
       "      <td>2021-08-21</td>\n",
       "      <td>Saudi Arabia</td>\n",
       "      <td>Jeddah</td>\n",
       "      <td>Tesher</td>\n",
       "      <td>Jalebi Baby</td>\n",
       "      <td>Jalebi Baby</td>\n",
       "      <td>QZNWQ2070741</td>\n",
       "      <td>2d896d31-97b6-4869-967b-1c5fb9cd4bb8</td>\n",
       "    </tr>\n",
       "    <tr>\n",
       "      <th>2</th>\n",
       "      <td>click</td>\n",
       "      <td>2021-08-21</td>\n",
       "      <td>India</td>\n",
       "      <td>Ludhiana</td>\n",
       "      <td>Reyanna Maria</td>\n",
       "      <td>So Pretty</td>\n",
       "      <td>So Pretty</td>\n",
       "      <td>USUM72100871</td>\n",
       "      <td>23199824-9cf5-4b98-942a-34965c3b0cc2</td>\n",
       "    </tr>\n",
       "    <tr>\n",
       "      <th>3</th>\n",
       "      <td>click</td>\n",
       "      <td>2021-08-21</td>\n",
       "      <td>France</td>\n",
       "      <td>Unknown</td>\n",
       "      <td>Simone &amp; Simaria, Sebastian Yatra</td>\n",
       "      <td>No Llores Más</td>\n",
       "      <td>No Llores Más</td>\n",
       "      <td>BRUM72003904</td>\n",
       "      <td>35573248-4e49-47c7-af80-08a960fa74cd</td>\n",
       "    </tr>\n",
       "    <tr>\n",
       "      <th>4</th>\n",
       "      <td>click</td>\n",
       "      <td>2021-08-21</td>\n",
       "      <td>Maldives</td>\n",
       "      <td>Malé</td>\n",
       "      <td>Tesher</td>\n",
       "      <td>Jalebi Baby</td>\n",
       "      <td>Jalebi Baby</td>\n",
       "      <td>QZNWQ2070741</td>\n",
       "      <td>2d896d31-97b6-4869-967b-1c5fb9cd4bb8</td>\n",
       "    </tr>\n",
       "  </tbody>\n",
       "</table>\n",
       "</div>"
      ],
      "text/plain": [
       "   event        date       country      city  \\\n",
       "0  click  2021-08-21  Saudi Arabia    Jeddah   \n",
       "1  click  2021-08-21  Saudi Arabia    Jeddah   \n",
       "2  click  2021-08-21         India  Ludhiana   \n",
       "3  click  2021-08-21        France   Unknown   \n",
       "4  click  2021-08-21      Maldives      Malé   \n",
       "\n",
       "                              artist          album          track  \\\n",
       "0                             Tesher    Jalebi Baby    Jalebi Baby   \n",
       "1                             Tesher    Jalebi Baby    Jalebi Baby   \n",
       "2                      Reyanna Maria      So Pretty      So Pretty   \n",
       "3  Simone & Simaria, Sebastian Yatra  No Llores Más  No Llores Más   \n",
       "4                             Tesher    Jalebi Baby    Jalebi Baby   \n",
       "\n",
       "           isrc                                linkid  \n",
       "0  QZNWQ2070741  2d896d31-97b6-4869-967b-1c5fb9cd4bb8  \n",
       "1  QZNWQ2070741  2d896d31-97b6-4869-967b-1c5fb9cd4bb8  \n",
       "2  USUM72100871  23199824-9cf5-4b98-942a-34965c3b0cc2  \n",
       "3  BRUM72003904  35573248-4e49-47c7-af80-08a960fa74cd  \n",
       "4  QZNWQ2070741  2d896d31-97b6-4869-967b-1c5fb9cd4bb8  "
      ]
     },
     "execution_count": 7,
     "metadata": {},
     "output_type": "execute_result"
    }
   ],
   "source": [
    "df.head()"
   ]
  },
  {
   "cell_type": "code",
   "execution_count": 8,
   "metadata": {},
   "outputs": [
    {
     "name": "stdout",
     "output_type": "stream",
     "text": [
      "<class 'pandas.core.frame.DataFrame'>\n",
      "RangeIndex: 226278 entries, 0 to 226277\n",
      "Data columns (total 9 columns):\n",
      " #   Column   Non-Null Count   Dtype \n",
      "---  ------   --------------   ----- \n",
      " 0   event    226278 non-null  object\n",
      " 1   date     226278 non-null  object\n",
      " 2   country  226267 non-null  object\n",
      " 3   city     226267 non-null  object\n",
      " 4   artist   226241 non-null  object\n",
      " 5   album    226273 non-null  object\n",
      " 6   track    226273 non-null  object\n",
      " 7   isrc     219157 non-null  object\n",
      " 8   linkid   226278 non-null  object\n",
      "dtypes: object(9)\n",
      "memory usage: 15.5+ MB\n"
     ]
    }
   ],
   "source": [
    "df.info()\n"
   ]
  },
  {
   "cell_type": "code",
   "execution_count": 9,
   "metadata": {},
   "outputs": [
    {
     "data": {
      "text/html": [
       "<div>\n",
       "<style scoped>\n",
       "    .dataframe tbody tr th:only-of-type {\n",
       "        vertical-align: middle;\n",
       "    }\n",
       "\n",
       "    .dataframe tbody tr th {\n",
       "        vertical-align: top;\n",
       "    }\n",
       "\n",
       "    .dataframe thead th {\n",
       "        text-align: right;\n",
       "    }\n",
       "</style>\n",
       "<table border=\"1\" class=\"dataframe\">\n",
       "  <thead>\n",
       "    <tr style=\"text-align: right;\">\n",
       "      <th></th>\n",
       "      <th>event</th>\n",
       "      <th>date</th>\n",
       "      <th>country</th>\n",
       "      <th>city</th>\n",
       "      <th>artist</th>\n",
       "      <th>album</th>\n",
       "      <th>track</th>\n",
       "      <th>isrc</th>\n",
       "      <th>linkid</th>\n",
       "    </tr>\n",
       "  </thead>\n",
       "  <tbody>\n",
       "    <tr>\n",
       "      <th>count</th>\n",
       "      <td>226278</td>\n",
       "      <td>226278</td>\n",
       "      <td>226267</td>\n",
       "      <td>226267</td>\n",
       "      <td>226241</td>\n",
       "      <td>226273</td>\n",
       "      <td>226273</td>\n",
       "      <td>219157</td>\n",
       "      <td>226278</td>\n",
       "    </tr>\n",
       "    <tr>\n",
       "      <th>unique</th>\n",
       "      <td>3</td>\n",
       "      <td>7</td>\n",
       "      <td>211</td>\n",
       "      <td>11993</td>\n",
       "      <td>2419</td>\n",
       "      <td>3254</td>\n",
       "      <td>3562</td>\n",
       "      <td>709</td>\n",
       "      <td>3839</td>\n",
       "    </tr>\n",
       "    <tr>\n",
       "      <th>top</th>\n",
       "      <td>pageview</td>\n",
       "      <td>2021-08-19</td>\n",
       "      <td>Saudi Arabia</td>\n",
       "      <td>Jeddah</td>\n",
       "      <td>Tesher</td>\n",
       "      <td>Jalebi Baby</td>\n",
       "      <td>Jalebi Baby</td>\n",
       "      <td>QZNWQ2070741</td>\n",
       "      <td>2d896d31-97b6-4869-967b-1c5fb9cd4bb8</td>\n",
       "    </tr>\n",
       "    <tr>\n",
       "      <th>freq</th>\n",
       "      <td>142015</td>\n",
       "      <td>35361</td>\n",
       "      <td>47334</td>\n",
       "      <td>22791</td>\n",
       "      <td>40841</td>\n",
       "      <td>40841</td>\n",
       "      <td>40841</td>\n",
       "      <td>40841</td>\n",
       "      <td>40841</td>\n",
       "    </tr>\n",
       "  </tbody>\n",
       "</table>\n",
       "</div>"
      ],
      "text/plain": [
       "           event        date       country    city  artist        album  \\\n",
       "count     226278      226278        226267  226267  226241       226273   \n",
       "unique         3           7           211   11993    2419         3254   \n",
       "top     pageview  2021-08-19  Saudi Arabia  Jeddah  Tesher  Jalebi Baby   \n",
       "freq      142015       35361         47334   22791   40841        40841   \n",
       "\n",
       "              track          isrc                                linkid  \n",
       "count        226273        219157                                226278  \n",
       "unique         3562           709                                  3839  \n",
       "top     Jalebi Baby  QZNWQ2070741  2d896d31-97b6-4869-967b-1c5fb9cd4bb8  \n",
       "freq          40841         40841                                 40841  "
      ]
     },
     "execution_count": 9,
     "metadata": {},
     "output_type": "execute_result"
    }
   ],
   "source": [
    "df.describe()"
   ]
  },
  {
   "cell_type": "code",
   "execution_count": 11,
   "metadata": {},
   "outputs": [
    {
     "data": {
      "text/plain": [
       "array(['click', 'preview', 'pageview'], dtype=object)"
      ]
     },
     "execution_count": 11,
     "metadata": {},
     "output_type": "execute_result"
    }
   ],
   "source": [
    "df['event'].unique()"
   ]
  },
  {
   "cell_type": "code",
   "execution_count": 12,
   "metadata": {},
   "outputs": [],
   "source": [
    "df['date'] = pd.to_datetime(df['date'])"
   ]
  },
  {
   "cell_type": "code",
   "execution_count": null,
   "metadata": {},
   "outputs": [],
   "source": []
  },
  {
   "cell_type": "markdown",
   "metadata": {},
   "source": [
    " Question 1 How many total pageview events did the links in the provided dataset receive in the full period, how many per day?"
   ]
  },
  {
   "cell_type": "code",
   "execution_count": 13,
   "metadata": {},
   "outputs": [
    {
     "data": {
      "text/plain": [
       "date\n",
       "2021-08-19    22366\n",
       "2021-08-20    21382\n",
       "2021-08-21    21349\n",
       "2021-08-22    20430\n",
       "2021-08-23    18646\n",
       "2021-08-24    18693\n",
       "2021-08-25    19149\n",
       "Name: event, dtype: int64"
      ]
     },
     "execution_count": 13,
     "metadata": {},
     "output_type": "execute_result"
    }
   ],
   "source": [
    "df[df['event'] == 'pageview'].groupby(['date'])['event'].count()"
   ]
  },
  {
   "cell_type": "code",
   "execution_count": null,
   "metadata": {},
   "outputs": [],
   "source": []
  },
  {
   "cell_type": "markdown",
   "metadata": {},
   "source": [
    "Question 2\n",
    "[Pandas] What about the other recorded events?"
   ]
  },
  {
   "cell_type": "code",
   "execution_count": 15,
   "metadata": {},
   "outputs": [
    {
     "data": {
      "text/plain": [
       "{'click', 'preview'}"
      ]
     },
     "execution_count": 15,
     "metadata": {},
     "output_type": "execute_result"
    }
   ],
   "source": [
    "# get the set of recorded events in the data\n",
    "recorded_events = set(df[\"event\"].unique())\n",
    "# remove the 'pageview' event\n",
    "recorded_events.remove(\"pageview\")\n",
    "recorded_events"
   ]
  },
  {
   "cell_type": "code",
   "execution_count": 16,
   "metadata": {},
   "outputs": [
    {
     "name": "stdout",
     "output_type": "stream",
     "text": [
      "Total number of click events is 55732 \n",
      "\n",
      "click event distribution per day:\n",
      "\n",
      "date\n",
      "2021-08-19    9207\n",
      "2021-08-20    8508\n",
      "2021-08-21    8071\n",
      "2021-08-22    7854\n",
      "2021-08-23    7315\n",
      "2021-08-24    7301\n",
      "2021-08-25    7476\n",
      "Name: event, dtype: int64 \n",
      "\n",
      "Total number of preview events is 28531 \n",
      "\n",
      "preview event distribution per day:\n",
      "\n",
      "date\n",
      "2021-08-19    3788\n",
      "2021-08-20    4222\n",
      "2021-08-21    4663\n",
      "2021-08-22    4349\n",
      "2021-08-23    3847\n",
      "2021-08-24    3840\n",
      "2021-08-25    3822\n",
      "Name: event, dtype: int64 \n",
      "\n"
     ]
    }
   ],
   "source": [
    "# loop over each event\n",
    "for recorded_event in recorded_events:\n",
    "    # get the total number of occurrences\n",
    "    total_events = df[df[\"event\"] == recorded_event].shape[0]\n",
    "    print(\"Total number of\", recorded_event, \"events is\", total_events, \"\\n\")\n",
    "    # group by the date and aggregate by count\n",
    "    data_set = df[df[\"event\"] == recorded_event].groupby(by=\"date\")[\"event\"].count()\n",
    "    print(recorded_event, \"event distribution per day:\\n\")\n",
    "    print(data_set, \"\\n\")"
   ]
  },
  {
   "cell_type": "code",
   "execution_count": null,
   "metadata": {},
   "outputs": [],
   "source": []
  },
  {
   "cell_type": "markdown",
   "metadata": {},
   "source": [
    "Question 3\n",
    "[Pandas] Which countries did the clicks come from?"
   ]
  },
  {
   "cell_type": "code",
   "execution_count": 18,
   "metadata": {},
   "outputs": [
    {
     "data": {
      "text/plain": [
       "array(['Saudi Arabia', 'India', 'France', 'Maldives', 'United States',\n",
       "       'Sierra Leone', 'United Kingdom', 'Sweden', 'United Arab Emirates',\n",
       "       'Qatar', 'Germany', 'Albania', 'Iraq', 'Romania', 'Morocco',\n",
       "       'Kuwait', 'Nigeria', 'Finland', 'Bangladesh', 'Fiji', 'Turkey',\n",
       "       'Russia', 'Belgium', 'Norway', 'Cabo Verde', 'Italy', 'Austria',\n",
       "       'Libya', 'Pakistan', 'Bahrain', 'Tunisia', 'DR Congo', 'Australia',\n",
       "       'Canada', 'Kenya', 'French Guiana', 'Jordan', 'Netherlands',\n",
       "       'Somalia', 'Mexico', 'Oman', 'Sri Lanka', 'Ecuador', 'Latvia',\n",
       "       'Guatemala', 'South Africa', 'Bosnia and Herzegovina', 'Yemen',\n",
       "       'Switzerland', 'Slovenia', 'Mauritania', 'Cameroon', 'Spain',\n",
       "       'Thailand', 'Egypt', 'Poland', 'Ghana', 'Gabon', 'Greece',\n",
       "       'Burkina Faso', 'Malaysia', 'Zambia', 'American Samoa', 'Algeria',\n",
       "       'Uganda', 'Bulgaria', 'Denmark', 'Colombia', 'Portugal', 'Senegal',\n",
       "       'Ireland', 'Panama', 'Serbia', 'Haiti', 'Honduras', 'Tanzania',\n",
       "       'Nepal', 'Palestine', 'Paraguay', 'Brazil', 'Niger', 'Lebanon',\n",
       "       'Jamaica', 'Georgia', 'Hungary', 'Philippines', 'Botswana',\n",
       "       'Israel', 'Ukraine', 'Peru', 'Hong Kong', 'Iceland', 'Estonia',\n",
       "       'Singapore', 'Azerbaijan', 'Mali', 'Mozambique', 'Ivory Coast',\n",
       "       'Guinea', 'Ethiopia', 'Dominican Republic', 'Martinique',\n",
       "       'Nicaragua', 'Turks and Caicos Islands', 'Kyrgyzstan', 'Réunion',\n",
       "       'Bhutan', 'Kosovo', 'New Zealand', 'Croatia', 'Belize', 'Japan',\n",
       "       nan, 'Lithuania', 'Angola', 'Puerto Rico', 'Luxembourg', 'Benin',\n",
       "       'Slovakia', 'Indonesia', 'Djibouti', 'Bahamas', 'Togo', 'Armenia',\n",
       "       'Argentina', 'Bolivia', 'South Korea', 'Iran', 'Moldova', 'Rwanda',\n",
       "       'Zimbabwe', 'Cayman Islands', 'Burundi', 'Montenegro', 'Malta',\n",
       "       'Costa Rica', 'El Salvador', 'Czechia', 'Venezuela',\n",
       "       'Papua New Guinea', 'Congo Republic', 'Sudan', 'North Macedonia',\n",
       "       'Uzbekistan', 'Myanmar', 'Trinidad and Tobago', 'Aruba', 'Guyana',\n",
       "       'Mongolia', 'Barbados', 'Curaçao', 'Liberia', 'Mauritius', 'Chile',\n",
       "       'Suriname', 'Cambodia', 'China', 'Kazakhstan', 'Namibia',\n",
       "       'U.S. Virgin Islands', 'Chad', 'Greenland', 'Mayotte',\n",
       "       'Marshall Islands', 'Saint Martin',\n",
       "       'Saint Vincent and the Grenadines', 'Dominica', 'Gambia',\n",
       "       'Eswatini', 'Comoros', 'Laos', 'Cyprus', 'Guadeloupe', 'Eritrea',\n",
       "       'Tajikistan', 'Liechtenstein', 'Uruguay', 'Antigua and Barbuda',\n",
       "       'Anguilla', 'Seychelles', 'British Virgin Islands', 'Grenada',\n",
       "       'French Polynesia', 'Vietnam', 'Saint Lucia', 'Wallis and Futuna',\n",
       "       'Gibraltar', 'St Kitts and Nevis', 'Belarus', 'Taiwan', 'Syria',\n",
       "       'Isle of Man', 'Madagascar', 'New Caledonia',\n",
       "       'Central African Republic', 'Malawi', 'Bermuda', 'Solomon Islands',\n",
       "       'Guernsey', 'Palau', 'Åland', 'Principality of Monaco', 'Brunei'],\n",
       "      dtype=object)"
      ]
     },
     "execution_count": 18,
     "metadata": {},
     "output_type": "execute_result"
    }
   ],
   "source": [
    "df[df['event'] == 'click']['country'].unique()"
   ]
  },
  {
   "cell_type": "code",
   "execution_count": null,
   "metadata": {},
   "outputs": [],
   "source": []
  },
  {
   "cell_type": "markdown",
   "metadata": {},
   "source": [
    "Question 4\n",
    "[Pandas] What was the overall click rate (clicks/pageviews)?\n",
    "\n",
    "The click rate is the number of clicks that a page has received (event = 'click') divided by the number of times it has been shown (event = 'pageview'). It is a commonly used metric that measures the success of an advertising campaign.\n",
    "\n"
   ]
  },
  {
   "cell_type": "code",
   "execution_count": 24,
   "metadata": {},
   "outputs": [],
   "source": [
    "clicks = df[df['event'] == 'click'].groupby(['linkid'])['event'].count().to_frame()\n",
    "clicks = clicks.rename(columns={\n",
    "    \"event\": \"clicks\" # rename column for easier manipulation\n",
    "})\n",
    "pageviews = df[df[\"event\"] == \"pageview\"].groupby(by=\"linkid\")[\"event\"].count().to_frame()\n",
    "\n",
    "pageviews = pageviews.rename(columns={\n",
    "    \"event\": \"pageviews\"\n",
    "})\n"
   ]
  },
  {
   "cell_type": "code",
   "execution_count": 28,
   "metadata": {},
   "outputs": [
    {
     "name": "stdout",
     "output_type": "stream",
     "text": [
      "                                      clicks  pageviews  click_rate\n",
      "linkid                                                             \n",
      "00126b32-0c35-507b-981c-02c80d2aa8e7       2        2.0    1.000000\n",
      "004b9724-abca-5481-b6e9-6148a7ca00a5       1        1.0    1.000000\n",
      "0063a982-41cd-5629-96d0-e1c4dd72ea11       2        3.0    0.666667\n",
      "006af6a0-1f0d-4b0c-93bf-756af9071c06       8       36.0    0.222222\n",
      "00759b81-3f04-4a61-b934-f8fb3185f4a0       3        4.0    0.750000\n",
      "...                                      ...        ...         ...\n",
      "ffd8d5a7-91bc-48e1-a692-c26fca8a8ead      29       84.0    0.345238\n",
      "fff38ca0-8043-50cd-a5f1-f65ebb7105c5       1        1.0    1.000000\n",
      "fff84c0e-90a1-59d8-9997-adc909d50e16       1        1.0    1.000000\n",
      "fffc17a7-f935-5d3e-bd3e-d761fd80d479       1        2.0    0.500000\n",
      "fffd0045-29de-522b-b5d8-35786363bf07       1        2.0    0.500000\n",
      "\n",
      "[2255 rows x 3 columns]\n"
     ]
    }
   ],
   "source": [
    "df_q4 = clicks.join(pageviews)\n",
    "# define a new column of the 'click_rate'\n",
    "df_q4[\"click_rate\"] = df_q4[\"clicks\"] / df_q4[\"pageviews\"]\n",
    "print(df_q4)"
   ]
  },
  {
   "cell_type": "code",
   "execution_count": null,
   "metadata": {},
   "outputs": [],
   "source": []
  },
  {
   "cell_type": "markdown",
   "metadata": {},
   "source": [
    "Question 5\n",
    "[Pandas] How does the clickrate distribute across different links?"
   ]
  },
  {
   "cell_type": "code",
   "execution_count": 30,
   "metadata": {},
   "outputs": [
    {
     "data": {
      "text/plain": [
       "<Axes: >"
      ]
     },
     "execution_count": 30,
     "metadata": {},
     "output_type": "execute_result"
    },
    {
     "data": {
      "image/png": "[encoded data removed]",
      "text/plain": [
       "<Figure size 640x480 with 1 Axes>"
      ]
     },
     "metadata": {},
     "output_type": "display_data"
    }
   ],
   "source": [
    "df_q4[\"click_rate\"].hist()"
   ]
  },
  {
   "cell_type": "code",
   "execution_count": 31,
   "metadata": {},
   "outputs": [
    {
     "data": {
      "text/plain": [
       "<Axes: >"
      ]
     },
     "execution_count": 31,
     "metadata": {},
     "output_type": "execute_result"
    },
    {
     "data": {
      "image/png": "[encoded data removed]",
      "text/plain": [
       "<Figure size 640x480 with 1 Axes>"
      ]
     },
     "metadata": {},
     "output_type": "display_data"
    }
   ],
   "source": [
    "# because the data is highly skewed, it makes more sense to plot the log of it\n",
    "df_q4[\"click_rate_log2\"] = np.log2(df_q4[\"click_rate\"])\n",
    "df_q4[\"click_rate_log2\"].hist()"
   ]
  },
  {
   "cell_type": "code",
   "execution_count": null,
   "metadata": {},
   "outputs": [],
   "source": []
  },
  {
   "cell_type": "markdown",
   "metadata": {},
   "source": [
    "Question 6\n",
    "[Pandas & SciPy] Is there any correlation between clicks and previews on a link? Is it significant? How large is the effect? Make sure to at least test for potential linear as well as categorical (think binary) relationships between both variables."
   ]
  },
  {
   "cell_type": "code",
   "execution_count": 47,
   "metadata": {},
   "outputs": [],
   "source": [
    "# filter only events that are relevant to the question\n",
    "df_q6 = df[df[\"event\"].isin([\"click\", \"preview\"])]"
   ]
  },
  {
   "cell_type": "code",
   "execution_count": 48,
   "metadata": {},
   "outputs": [],
   "source": [
    "# filter only 'click' events and group them by the 'linkid' to get their count,\n",
    "# i.e., number of clicks on each link\n",
    "link_clicks = df[df[\"event\"] == \"click\"].groupby(by=\"linkid\")[\"event\"].count().reset_index()\n",
    "link_clicks = link_clicks.rename(columns={\n",
    "    \"event\": \"clicks\" # rename column for easier manipulation\n",
    "})\n",
    "# do the same for the 'preview' events\n",
    "previews = df[df[\"event\"] == \"preview\"].groupby(by=\"linkid\")[\"event\"].count().reset_index()\n",
    "previews = previews.rename(columns={\n",
    "    \"event\": \"previews\"\n",
    "})"
   ]
  },
  {
   "cell_type": "code",
   "execution_count": 49,
   "metadata": {},
   "outputs": [],
   "source": [
    "# perform two database-style joins to append the \n",
    "# number of link clicks and previews to each row\n",
    "df_q6 = pd.merge(left=df_q6, right=link_clicks, how=\"left\", on=\"linkid\")\n",
    "df_q6 = pd.merge(left=df_q6, right=previews, how=\"left\", on=\"linkid\")\n"
   ]
  },
  {
   "cell_type": "code",
   "execution_count": 55,
   "metadata": {},
   "outputs": [
    {
     "data": {
      "text/html": [
       "<div>\n",
       "<style scoped>\n",
       "    .dataframe tbody tr th:only-of-type {\n",
       "        vertical-align: middle;\n",
       "    }\n",
       "\n",
       "    .dataframe tbody tr th {\n",
       "        vertical-align: top;\n",
       "    }\n",
       "\n",
       "    .dataframe thead th {\n",
       "        text-align: right;\n",
       "    }\n",
       "</style>\n",
       "<table border=\"1\" class=\"dataframe\">\n",
       "  <thead>\n",
       "    <tr style=\"text-align: right;\">\n",
       "      <th></th>\n",
       "      <th>event</th>\n",
       "      <th>date</th>\n",
       "      <th>country</th>\n",
       "      <th>city</th>\n",
       "      <th>artist</th>\n",
       "      <th>album</th>\n",
       "      <th>track</th>\n",
       "      <th>isrc</th>\n",
       "      <th>linkid</th>\n",
       "      <th>clicks</th>\n",
       "      <th>previews</th>\n",
       "    </tr>\n",
       "  </thead>\n",
       "  <tbody>\n",
       "    <tr>\n",
       "      <th>0</th>\n",
       "      <td>click</td>\n",
       "      <td>2021-08-21</td>\n",
       "      <td>Saudi Arabia</td>\n",
       "      <td>Jeddah</td>\n",
       "      <td>Tesher</td>\n",
       "      <td>Jalebi Baby</td>\n",
       "      <td>Jalebi Baby</td>\n",
       "      <td>QZNWQ2070741</td>\n",
       "      <td>2d896d31-97b6-4869-967b-1c5fb9cd4bb8</td>\n",
       "      <td>9692.0</td>\n",
       "      <td>5974.0</td>\n",
       "    </tr>\n",
       "    <tr>\n",
       "      <th>1</th>\n",
       "      <td>click</td>\n",
       "      <td>2021-08-21</td>\n",
       "      <td>Saudi Arabia</td>\n",
       "      <td>Jeddah</td>\n",
       "      <td>Tesher</td>\n",
       "      <td>Jalebi Baby</td>\n",
       "      <td>Jalebi Baby</td>\n",
       "      <td>QZNWQ2070741</td>\n",
       "      <td>2d896d31-97b6-4869-967b-1c5fb9cd4bb8</td>\n",
       "      <td>9692.0</td>\n",
       "      <td>5974.0</td>\n",
       "    </tr>\n",
       "    <tr>\n",
       "      <th>2</th>\n",
       "      <td>click</td>\n",
       "      <td>2021-08-21</td>\n",
       "      <td>India</td>\n",
       "      <td>Ludhiana</td>\n",
       "      <td>Reyanna Maria</td>\n",
       "      <td>So Pretty</td>\n",
       "      <td>So Pretty</td>\n",
       "      <td>USUM72100871</td>\n",
       "      <td>23199824-9cf5-4b98-942a-34965c3b0cc2</td>\n",
       "      <td>1187.0</td>\n",
       "      <td>718.0</td>\n",
       "    </tr>\n",
       "    <tr>\n",
       "      <th>3</th>\n",
       "      <td>click</td>\n",
       "      <td>2021-08-21</td>\n",
       "      <td>France</td>\n",
       "      <td>Unknown</td>\n",
       "      <td>Simone &amp; Simaria, Sebastian Yatra</td>\n",
       "      <td>No Llores Más</td>\n",
       "      <td>No Llores Más</td>\n",
       "      <td>BRUM72003904</td>\n",
       "      <td>35573248-4e49-47c7-af80-08a960fa74cd</td>\n",
       "      <td>69.0</td>\n",
       "      <td>30.0</td>\n",
       "    </tr>\n",
       "    <tr>\n",
       "      <th>4</th>\n",
       "      <td>click</td>\n",
       "      <td>2021-08-21</td>\n",
       "      <td>Maldives</td>\n",
       "      <td>Malé</td>\n",
       "      <td>Tesher</td>\n",
       "      <td>Jalebi Baby</td>\n",
       "      <td>Jalebi Baby</td>\n",
       "      <td>QZNWQ2070741</td>\n",
       "      <td>2d896d31-97b6-4869-967b-1c5fb9cd4bb8</td>\n",
       "      <td>9692.0</td>\n",
       "      <td>5974.0</td>\n",
       "    </tr>\n",
       "    <tr>\n",
       "      <th>...</th>\n",
       "      <td>...</td>\n",
       "      <td>...</td>\n",
       "      <td>...</td>\n",
       "      <td>...</td>\n",
       "      <td>...</td>\n",
       "      <td>...</td>\n",
       "      <td>...</td>\n",
       "      <td>...</td>\n",
       "      <td>...</td>\n",
       "      <td>...</td>\n",
       "      <td>...</td>\n",
       "    </tr>\n",
       "    <tr>\n",
       "      <th>84258</th>\n",
       "      <td>preview</td>\n",
       "      <td>2021-08-23</td>\n",
       "      <td>United States</td>\n",
       "      <td>Brentwood</td>\n",
       "      <td>Tesher</td>\n",
       "      <td>Jalebi Baby</td>\n",
       "      <td>Jalebi Baby</td>\n",
       "      <td>QZNWQ2070741</td>\n",
       "      <td>2d896d31-97b6-4869-967b-1c5fb9cd4bb8</td>\n",
       "      <td>9692.0</td>\n",
       "      <td>5974.0</td>\n",
       "    </tr>\n",
       "    <tr>\n",
       "      <th>84259</th>\n",
       "      <td>preview</td>\n",
       "      <td>2021-08-23</td>\n",
       "      <td>Saudi Arabia</td>\n",
       "      <td>Riyadh</td>\n",
       "      <td>Evanescence</td>\n",
       "      <td>Fallen</td>\n",
       "      <td>Bring Me To Life</td>\n",
       "      <td>USWU30200093</td>\n",
       "      <td>0ea9f8bf-a144-42bd-a7b0-124e73914da4</td>\n",
       "      <td>20.0</td>\n",
       "      <td>14.0</td>\n",
       "    </tr>\n",
       "    <tr>\n",
       "      <th>84260</th>\n",
       "      <td>preview</td>\n",
       "      <td>2021-08-23</td>\n",
       "      <td>Ukraine</td>\n",
       "      <td>Kyiv</td>\n",
       "      <td>Miscél</td>\n",
       "      <td>when you left</td>\n",
       "      <td>when you left</td>\n",
       "      <td>QM42K1907890</td>\n",
       "      <td>2fc15e8b-83aa-40ee-9f9d-5d96c6d4356c</td>\n",
       "      <td>235.0</td>\n",
       "      <td>145.0</td>\n",
       "    </tr>\n",
       "    <tr>\n",
       "      <th>84261</th>\n",
       "      <td>preview</td>\n",
       "      <td>2021-08-23</td>\n",
       "      <td>Saudi Arabia</td>\n",
       "      <td>Khamis Mushait</td>\n",
       "      <td>Anne-Marie</td>\n",
       "      <td>Beautiful</td>\n",
       "      <td>Beautiful</td>\n",
       "      <td>GBAHS2100225</td>\n",
       "      <td>522da5cc-8177-4140-97a7-a84fdb4caf1c</td>\n",
       "      <td>2109.0</td>\n",
       "      <td>1605.0</td>\n",
       "    </tr>\n",
       "    <tr>\n",
       "      <th>84262</th>\n",
       "      <td>preview</td>\n",
       "      <td>2021-08-23</td>\n",
       "      <td>Pakistan</td>\n",
       "      <td>Arifwala</td>\n",
       "      <td>Reyanna Maria</td>\n",
       "      <td>So Pretty</td>\n",
       "      <td>So Pretty</td>\n",
       "      <td>USUM72100871</td>\n",
       "      <td>23199824-9cf5-4b98-942a-34965c3b0cc2</td>\n",
       "      <td>1187.0</td>\n",
       "      <td>718.0</td>\n",
       "    </tr>\n",
       "  </tbody>\n",
       "</table>\n",
       "<p>79438 rows × 11 columns</p>\n",
       "</div>"
      ],
      "text/plain": [
       "         event       date        country            city  \\\n",
       "0        click 2021-08-21   Saudi Arabia          Jeddah   \n",
       "1        click 2021-08-21   Saudi Arabia          Jeddah   \n",
       "2        click 2021-08-21          India        Ludhiana   \n",
       "3        click 2021-08-21         France         Unknown   \n",
       "4        click 2021-08-21       Maldives            Malé   \n",
       "...        ...        ...            ...             ...   \n",
       "84258  preview 2021-08-23  United States       Brentwood   \n",
       "84259  preview 2021-08-23   Saudi Arabia          Riyadh   \n",
       "84260  preview 2021-08-23        Ukraine            Kyiv   \n",
       "84261  preview 2021-08-23   Saudi Arabia  Khamis Mushait   \n",
       "84262  preview 2021-08-23       Pakistan        Arifwala   \n",
       "\n",
       "                                  artist          album             track  \\\n",
       "0                                 Tesher    Jalebi Baby       Jalebi Baby   \n",
       "1                                 Tesher    Jalebi Baby       Jalebi Baby   \n",
       "2                          Reyanna Maria      So Pretty         So Pretty   \n",
       "3      Simone & Simaria, Sebastian Yatra  No Llores Más     No Llores Más   \n",
       "4                                 Tesher    Jalebi Baby       Jalebi Baby   \n",
       "...                                  ...            ...               ...   \n",
       "84258                             Tesher    Jalebi Baby       Jalebi Baby   \n",
       "84259                        Evanescence         Fallen  Bring Me To Life   \n",
       "84260                             Miscél  when you left     when you left   \n",
       "84261                         Anne-Marie      Beautiful         Beautiful   \n",
       "84262                      Reyanna Maria      So Pretty         So Pretty   \n",
       "\n",
       "               isrc                                linkid  clicks  previews  \n",
       "0      QZNWQ2070741  2d896d31-97b6-4869-967b-1c5fb9cd4bb8  9692.0    5974.0  \n",
       "1      QZNWQ2070741  2d896d31-97b6-4869-967b-1c5fb9cd4bb8  9692.0    5974.0  \n",
       "2      USUM72100871  23199824-9cf5-4b98-942a-34965c3b0cc2  1187.0     718.0  \n",
       "3      BRUM72003904  35573248-4e49-47c7-af80-08a960fa74cd    69.0      30.0  \n",
       "4      QZNWQ2070741  2d896d31-97b6-4869-967b-1c5fb9cd4bb8  9692.0    5974.0  \n",
       "...             ...                                   ...     ...       ...  \n",
       "84258  QZNWQ2070741  2d896d31-97b6-4869-967b-1c5fb9cd4bb8  9692.0    5974.0  \n",
       "84259  USWU30200093  0ea9f8bf-a144-42bd-a7b0-124e73914da4    20.0      14.0  \n",
       "84260  QM42K1907890  2fc15e8b-83aa-40ee-9f9d-5d96c6d4356c   235.0     145.0  \n",
       "84261  GBAHS2100225  522da5cc-8177-4140-97a7-a84fdb4caf1c  2109.0    1605.0  \n",
       "84262  USUM72100871  23199824-9cf5-4b98-942a-34965c3b0cc2  1187.0     718.0  \n",
       "\n",
       "[79438 rows x 11 columns]"
      ]
     },
     "execution_count": 55,
     "metadata": {},
     "output_type": "execute_result"
    }
   ],
   "source": [
    "df_q6.dropna(subset=[\"clicks\", \"previews\"], inplace=True)\n",
    "df_q6"
   ]
  },
  {
   "cell_type": "code",
   "execution_count": 59,
   "metadata": {},
   "outputs": [
    {
     "data": {
      "text/html": [
       "<div>\n",
       "<style scoped>\n",
       "    .dataframe tbody tr th:only-of-type {\n",
       "        vertical-align: middle;\n",
       "    }\n",
       "\n",
       "    .dataframe tbody tr th {\n",
       "        vertical-align: top;\n",
       "    }\n",
       "\n",
       "    .dataframe thead th {\n",
       "        text-align: right;\n",
       "    }\n",
       "</style>\n",
       "<table border=\"1\" class=\"dataframe\">\n",
       "  <thead>\n",
       "    <tr style=\"text-align: right;\">\n",
       "      <th></th>\n",
       "      <th>clicks</th>\n",
       "      <th>previews</th>\n",
       "    </tr>\n",
       "  </thead>\n",
       "  <tbody>\n",
       "    <tr>\n",
       "      <th>clicks</th>\n",
       "      <td>1.000000</td>\n",
       "      <td>0.998713</td>\n",
       "    </tr>\n",
       "    <tr>\n",
       "      <th>previews</th>\n",
       "      <td>0.998713</td>\n",
       "      <td>1.000000</td>\n",
       "    </tr>\n",
       "  </tbody>\n",
       "</table>\n",
       "</div>"
      ],
      "text/plain": [
       "            clicks  previews\n",
       "clicks    1.000000  0.998713\n",
       "previews  0.998713  1.000000"
      ]
     },
     "execution_count": 59,
     "metadata": {},
     "output_type": "execute_result"
    }
   ],
   "source": [
    "df_q6.loc[:,['clicks','previews']].corr()"
   ]
  },
  {
   "cell_type": "code",
   "execution_count": null,
   "metadata": {},
   "outputs": [],
   "source": []
  }
 ],
 "metadata": {
  "kernelspec": {
   "display_name": "Python 3",
   "language": "python",
   "name": "python3"
  },
  "language_info": {
   "codemirror_mode": {
    "name": "ipython",
    "version": 3
   },
   "file_extension": ".py",
   "mimetype": "text/x-python",
   "name": "python",
   "nbconvert_exporter": "python",
   "pygments_lexer": "ipython3",
   "version": "3.11.3"
  }
 },
 "nbformat": 4,
 "nbformat_minor": 2
}
